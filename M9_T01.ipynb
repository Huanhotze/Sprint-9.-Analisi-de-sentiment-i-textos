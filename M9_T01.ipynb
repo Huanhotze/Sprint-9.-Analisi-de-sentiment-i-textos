{
  "nbformat": 4,
  "nbformat_minor": 0,
  "metadata": {
    "colab": {
      "provenance": [],
      "collapsed_sections": [
        "JCMfN8Dv0l03"
      ]
    },
    "kernelspec": {
      "name": "python3",
      "display_name": "Python 3"
    },
    "language_info": {
      "name": "python"
    }
  },
  "cells": [
    {
      "cell_type": "markdown",
      "metadata": {
        "id": "5818753a"
      },
      "source": [
        "# Tasca M9 T01"
      ]
    },
    {
      "cell_type": "markdown",
      "source": [
        "##### Importing libraries"
      ],
      "metadata": {
        "id": "JCMfN8Dv0l03"
      }
    },
    {
      "cell_type": "code",
      "source": [
        "# importing libraries\n",
        "\n",
        "import matplotlib.pyplot as plt\n",
        "import plotly.express as px\n",
        "import numpy as np\n",
        "import pandas as pd\n",
        "\n",
        "import nltk\n",
        "nltk.download('vader_lexicon')\n",
        "from nltk.sentiment.vader import SentimentIntensityAnalyzer\n",
        "from nltk.corpus import stopwords                            \n",
        "from nltk.stem import PorterStemmer\n",
        "from nltk.tokenize import sent_tokenize, word_tokenize\n",
        "\n",
        "!pip install wikipedia\n",
        "import wikipedia\n",
        "import re #Clean text from wiki"
      ],
      "metadata": {
        "id": "3si8SYT-hzuy",
        "colab": {
          "base_uri": "https://localhost:8080/"
        },
        "outputId": "976cc8ef-f7c1-4aa5-d110-9bc40b1c74ac"
      },
      "execution_count": null,
      "outputs": [
        {
          "output_type": "stream",
          "name": "stderr",
          "text": [
            "[nltk_data] Downloading package vader_lexicon to /root/nltk_data...\n",
            "[nltk_data]   Package vader_lexicon is already up-to-date!\n"
          ]
        },
        {
          "output_type": "stream",
          "name": "stdout",
          "text": [
            "Looking in indexes: https://pypi.org/simple, https://us-python.pkg.dev/colab-wheels/public/simple/\n",
            "Requirement already satisfied: wikipedia in /usr/local/lib/python3.7/dist-packages (1.4.0)\n",
            "Requirement already satisfied: beautifulsoup4 in /usr/local/lib/python3.7/dist-packages (from wikipedia) (4.6.3)\n",
            "Requirement already satisfied: requests<3.0.0,>=2.0.0 in /usr/local/lib/python3.7/dist-packages (from wikipedia) (2.23.0)\n",
            "Requirement already satisfied: urllib3!=1.25.0,!=1.25.1,<1.26,>=1.21.1 in /usr/local/lib/python3.7/dist-packages (from requests<3.0.0,>=2.0.0->wikipedia) (1.24.3)\n",
            "Requirement already satisfied: certifi>=2017.4.17 in /usr/local/lib/python3.7/dist-packages (from requests<3.0.0,>=2.0.0->wikipedia) (2022.9.24)\n",
            "Requirement already satisfied: chardet<4,>=3.0.2 in /usr/local/lib/python3.7/dist-packages (from requests<3.0.0,>=2.0.0->wikipedia) (3.0.4)\n",
            "Requirement already satisfied: idna<3,>=2.5 in /usr/local/lib/python3.7/dist-packages (from requests<3.0.0,>=2.0.0->wikipedia) (2.10)\n"
          ]
        }
      ]
    },
    {
      "cell_type": "markdown",
      "metadata": {
        "id": "f6dbf2c8"
      },
      "source": [
        "## Exercici 1\n",
        "### Agafa un text en anglès que vulguis, i calcula'n la freqüència de les paraules."
      ]
    },
    {
      "cell_type": "markdown",
      "source": [
        "Escogemos una entrada de la wikipedia en este caso en concreto la entrada sobre el huracán Julia que nos encontramos en la portada de la wikipedia.\n",
        "\n",
        "En primer lugar nos descargaremos el texto y lo guardaremos en una variable para poder seguir utlizandolo el resto del ejercicio."
      ],
      "metadata": {
        "id": "vWUSj6Rnx75a"
      }
    },
    {
      "cell_type": "code",
      "source": [
        "# Specify the title of the Wikipedia page\n",
        "wiki = wikipedia.page('Hurricane Julia (2022)', auto_suggest=False)\n",
        "\n",
        "# Extract the plain text content of the page\n",
        "text = wiki.content\n",
        "text"
      ],
      "metadata": {
        "colab": {
          "base_uri": "https://localhost:8080/",
          "height": 122
        },
        "id": "LQgaSkoEtf7-",
        "outputId": "b7fe8dce-53ba-4e3d-a086-890e5605cee7"
      },
      "execution_count": null,
      "outputs": [
        {
          "output_type": "execute_result",
          "data": {
            "text/plain": [
              "\"Hurricane Julia was a deadly tropical cyclone that caused significant impacts in Central America as a Category 1 hurricane in October 2022. The tenth named storm and fifth hurricane of the 2022 Atlantic hurricane season, Julia originated from a tropical wave in the tropical North Atlantic Ocean, and became a named storm on October 7. It took a southerly course through the Caribbean and passed just off the coast of Venezuela at the time it became a tropical cyclone. Only one storm on record, Tropical Storm Bret in 1993, has tracked further south over South America.On October 8, it became a hurricane and proceeded to make landfall in Nicaragua. It emerged into the Pacific Ocean as a tropical storm on October 10, becoming the eighteenth tropical storm of the 2022 Pacific hurricane season, and the second storm of the season to survive the crossover between the Atlantic–Pacific basin, after Bonnie in July. The storm then briefly moved along the coast of El Salvador, before moving inland and degenerating into a remnant low over Guatemala on October 10. Julia brought heavy rains that caused life-threatening flash floods and deadly mudslides in northern Venezuela and much of Central America.\\n\\n\\n== Meteorological history ==\\n\\nOn October 2, the National Hurricane Center (NHC) began monitoring a tropical wave over the central tropical Atlantic. A broad area of low pressure formed on October 4, as it approached the southern Windward Islands. Due to the threat the developing system posed to land areas in the southern Caribbean, the NHC initiated advisories on it as Potential Tropical Cyclone Thirteen on October 6. Later that day, after satellite imagery and radar data indicated that the disturbance had attained sufficient circulation and organized convection, and after hurricane hunter survey data showed the presence of 30–35 mph (45–55 km/h) winds north of the center, it was designated as a tropical depression. A strong burst of deep convection developed near the center of the depression as it moved across the Guajira Peninsula in the early morning of October 7, and soon afterwards, it strengthened into Tropical Storm Julia. Afterward, the morning burst of deep convection was stripped away by northwesterly shear, and the storm's low-level center was exposed for the next several hours.There was an increase in persistent and deep convection over the center, and the system began to gain strength. Julia became a hurricane at 23:00 UTC on October 8, and reached its peak intensity at 02:00 UTC on October 9, with maximum sustained winds of 85 mph (140 km/h) and a minimum central pressure of 982 mbar (29.0 inHg). At 07:15 UTC, the storm made landfall near Pearl Lagoon, Nicaragua, at the same intensity. The system then gradually weakened to a tropical storm as it moved westward across Nicaragua, while maintaining a well-defined circulation and deep convection persisting near the center. Late on October 9, Julia left the Atlantic basin and was designated as an East Pacific tropical storm. Three hours later, its center emerged offshore into the Pacific, where it continued to weaken. It maintained a band of deep convection over the southern and eastern portions of its circulation. At 12:00 UTC on October 10, the center of the storm crossed the coast of El Salvador, about 35 mi (55 km) west of San Salvador, and then weakened to a tropical depression. Later that same day, Julia degenerated into a remnant low that extended from offshore of Guatemala to extreme southeastern Mexico.\\n\\n\\n== Preparation and impact ==\\n\\n\\n=== Trinidad and Tobago ===\\nOn October 5, the disturbance brought heavy thunderstorms to several of South America's Windward Islands and the Caribbean coast. More than 2 in (51 mm) of rain fell in Trinidad and Tobago in less than a half-hour, causing significant flash flooding. That flooding resulted in one fatality, after a woman was swept away while trying to cross a river and drowned.\\n\\n\\n=== Venezuela ===\\nHeavy rain from the storm caused widespread flooding and landslides. In Las Tejerías, in north-central Venezuela, at least 50 people died and 50 went missing when mud and debris inundated the town. 3,000 people were deployed to search for survivors.\\n\\n\\n=== Colombia ===\\nThe center of Julia passed just south of San Andrés Island as it was reaching hurricane strength east of Nicaragua. At least 174 homes were destroyed by Julia, and 5,247 homes and a health center were damaged. There have been no reports of fatalities.\\n\\n\\n=== Central America ===\\n\\n\\n==== Honduras ====\\n\\nThe Government of Honduras opened more than 1,137 shelters nationwide, with 9,200 people utilizing them by October 10. A red alert, the highest level of warning, was issued for 10 of Honduras's 18 departments. Many homes were flooded along the Chamelecón River, which continued to rise as of October 10. Heavy rains brought water levels at the La Concepcion Dam and Jose Cecilio del Valle Dam above their maximum capacity. The Ulúa River rose to 22.3 ft (6.79 m) near Santiago, exceeding the red alert stage for flooding. The most significant effects were felt in Yoro Department. Throughout Honduras, Julia killed four people and left two others missing as of October 11. A total of 103,960 people were affected, 3,412 of whom required evacuation. A total of 278 homes were destroyed and a further 397 suffered varying degrees of damage.\\n\\n\\n==== Guatemala ====\\nA total of 457,300 people were affected throughout Guatemala, 1,165 of whom required evacuation. At least 14 people died throughout Guatemala: nine in Huehuetenango Department and five in Alta Verapaz Department.\\n\\n\\n==== Nicaragua ====\\nThe hurricane left at least 1 million people without power and forced the evacuation of 13,000 families.\\n\\n\\n==== Panama ====\\nTwo people died in Panama near the border with Costa Rica and around 300 people required evacuation. The Ministry of Education of Panama suspended classes on October 10. A total of two landslides were reported. Due to heavy rains, nearly 868 people were affected.\\n\\n\\n==== El Salvador ====\\nOn October 8, the Government of El Salvador declared an orange alert for the entire territory due to the approaching storm. Fishing and recreational activities in rivers, beaches, and lakes were suspended until October 11. Shelters for 3,000 people were prepared. A state of national emergency was declared due to the hurricane. The Government ended up declaring a red alert for civil protection due to the winds throughout the national territory. Tree falls were reported in different municipalities, impeding traffic and damaging cars. Falling branches blocked several major highways; roads were also damaged by landslides. Five soldiers died and another was injured in Comasagua when the home they were seeking refuge in collapsed. In all, Julia was responsible for ten deaths in El Salvador.\\n\\n\\n== See also ==\\nList of Atlantic–Pacific crossover hurricanes\\nList of Category 1 Atlantic hurricanes\\nTimeline of the 2022 Atlantic hurricane season\\nTimeline of the 2022 Pacific hurricane season\\nTropical cyclones in 2022\\nWeather of 2022\\nTropical Storm Bret (1993) – another deadly system that took a similar track over the northern coast of South America\\nHurricane Otto (2016) – another Atlantic hurricane which traversed a similar path, eventually becoming an Eastern Pacific tropical storm\\nHurricane Nana (2020) – another cyclone that took a similar track that also affected Central America\\nHurricane Iota (2020) – an intense hurricane that had a similar track, affecting Central America\\nHurricane Bonnie (2022) – had a similar track and crossed over into the Eastern Pacific basin as a tropical storm three months before Julia\\n\\n\\n== References ==\\n\\n\\n== External links ==\\n\\nThe National Hurricane Center's advisory archive on Hurricane Julia (Atlantic Basin)\\nThe National Hurricane Center's advisory archive on Tropical Storm Julia (Eastern Pacific Basin)\""
            ],
            "application/vnd.google.colaboratory.intrinsic+json": {
              "type": "string"
            }
          },
          "metadata": {},
          "execution_count": 181
        }
      ]
    },
    {
      "cell_type": "markdown",
      "source": [
        "El texto extraido viene con algunos simbolos que no nos interesan. Lo limpiaremos para optener el texto más plano y significativo posible.\n",
        "\n",
        "\n",
        "◼ Drop headers surrounded by ‘==’: re.sub(r'==.*?==+', '', text)\n",
        "\n",
        "◼ Replace ‘\\n’ (a new line) with ‘’ (an empty string): .replace('\\n', '')"
      ],
      "metadata": {
        "id": "HG9O6fwvyB7L"
      }
    },
    {
      "cell_type": "code",
      "source": [
        "# Clean text\n",
        "text = re.sub(r'==.*?==+', '', text)\n",
        "text = text.replace('\\n', '')\n",
        "text"
      ],
      "metadata": {
        "colab": {
          "base_uri": "https://localhost:8080/",
          "height": 122
        },
        "id": "KYAkVtZFx_66",
        "outputId": "48b8d447-0ddc-47d1-8bfa-aeeb44c27e82"
      },
      "execution_count": null,
      "outputs": [
        {
          "output_type": "execute_result",
          "data": {
            "text/plain": [
              "\"Hurricane Julia was a deadly tropical cyclone that caused significant impacts in Central America as a Category 1 hurricane in October 2022. The tenth named storm and fifth hurricane of the 2022 Atlantic hurricane season, Julia originated from a tropical wave in the tropical North Atlantic Ocean, and became a named storm on October 7. It took a southerly course through the Caribbean and passed just off the coast of Venezuela at the time it became a tropical cyclone. Only one storm on record, Tropical Storm Bret in 1993, has tracked further south over South America.On October 8, it became a hurricane and proceeded to make landfall in Nicaragua. It emerged into the Pacific Ocean as a tropical storm on October 10, becoming the eighteenth tropical storm of the 2022 Pacific hurricane season, and the second storm of the season to survive the crossover between the Atlantic–Pacific basin, after Bonnie in July. The storm then briefly moved along the coast of El Salvador, before moving inland and degenerating into a remnant low over Guatemala on October 10. Julia brought heavy rains that caused life-threatening flash floods and deadly mudslides in northern Venezuela and much of Central America.On October 2, the National Hurricane Center (NHC) began monitoring a tropical wave over the central tropical Atlantic. A broad area of low pressure formed on October 4, as it approached the southern Windward Islands. Due to the threat the developing system posed to land areas in the southern Caribbean, the NHC initiated advisories on it as Potential Tropical Cyclone Thirteen on October 6. Later that day, after satellite imagery and radar data indicated that the disturbance had attained sufficient circulation and organized convection, and after hurricane hunter survey data showed the presence of 30–35 mph (45–55 km/h) winds north of the center, it was designated as a tropical depression. A strong burst of deep convection developed near the center of the depression as it moved across the Guajira Peninsula in the early morning of October 7, and soon afterwards, it strengthened into Tropical Storm Julia. Afterward, the morning burst of deep convection was stripped away by northwesterly shear, and the storm's low-level center was exposed for the next several hours.There was an increase in persistent and deep convection over the center, and the system began to gain strength. Julia became a hurricane at 23:00 UTC on October 8, and reached its peak intensity at 02:00 UTC on October 9, with maximum sustained winds of 85 mph (140 km/h) and a minimum central pressure of 982 mbar (29.0 inHg). At 07:15 UTC, the storm made landfall near Pearl Lagoon, Nicaragua, at the same intensity. The system then gradually weakened to a tropical storm as it moved westward across Nicaragua, while maintaining a well-defined circulation and deep convection persisting near the center. Late on October 9, Julia left the Atlantic basin and was designated as an East Pacific tropical storm. Three hours later, its center emerged offshore into the Pacific, where it continued to weaken. It maintained a band of deep convection over the southern and eastern portions of its circulation. At 12:00 UTC on October 10, the center of the storm crossed the coast of El Salvador, about 35 mi (55 km) west of San Salvador, and then weakened to a tropical depression. Later that same day, Julia degenerated into a remnant low that extended from offshore of Guatemala to extreme southeastern Mexico.On October 5, the disturbance brought heavy thunderstorms to several of South America's Windward Islands and the Caribbean coast. More than 2 in (51 mm) of rain fell in Trinidad and Tobago in less than a half-hour, causing significant flash flooding. That flooding resulted in one fatality, after a woman was swept away while trying to cross a river and drowned.Heavy rain from the storm caused widespread flooding and landslides. In Las Tejerías, in north-central Venezuela, at least 50 people died and 50 went missing when mud and debris inundated the town. 3,000 people were deployed to search for survivors.The center of Julia passed just south of San Andrés Island as it was reaching hurricane strength east of Nicaragua. At least 174 homes were destroyed by Julia, and 5,247 homes and a health center were damaged. There have been no reports of fatalities. Honduras The Government of Honduras opened more than 1,137 shelters nationwide, with 9,200 people utilizing them by October 10. A red alert, the highest level of warning, was issued for 10 of Honduras's 18 departments. Many homes were flooded along the Chamelecón River, which continued to rise as of October 10. Heavy rains brought water levels at the La Concepcion Dam and Jose Cecilio del Valle Dam above their maximum capacity. The Ulúa River rose to 22.3 ft (6.79 m) near Santiago, exceeding the red alert stage for flooding. The most significant effects were felt in Yoro Department. Throughout Honduras, Julia killed four people and left two others missing as of October 11. A total of 103,960 people were affected, 3,412 of whom required evacuation. A total of 278 homes were destroyed and a further 397 suffered varying degrees of damage. Guatemala A total of 457,300 people were affected throughout Guatemala, 1,165 of whom required evacuation. At least 14 people died throughout Guatemala: nine in Huehuetenango Department and five in Alta Verapaz Department. Nicaragua The hurricane left at least 1 million people without power and forced the evacuation of 13,000 families. Panama Two people died in Panama near the border with Costa Rica and around 300 people required evacuation. The Ministry of Education of Panama suspended classes on October 10. A total of two landslides were reported. Due to heavy rains, nearly 868 people were affected. El Salvador On October 8, the Government of El Salvador declared an orange alert for the entire territory due to the approaching storm. Fishing and recreational activities in rivers, beaches, and lakes were suspended until October 11. Shelters for 3,000 people were prepared. A state of national emergency was declared due to the hurricane. The Government ended up declaring a red alert for civil protection due to the winds throughout the national territory. Tree falls were reported in different municipalities, impeding traffic and damaging cars. Falling branches blocked several major highways; roads were also damaged by landslides. Five soldiers died and another was injured in Comasagua when the home they were seeking refuge in collapsed. In all, Julia was responsible for ten deaths in El Salvador.List of Atlantic–Pacific crossover hurricanesList of Category 1 Atlantic hurricanesTimeline of the 2022 Atlantic hurricane seasonTimeline of the 2022 Pacific hurricane seasonTropical cyclones in 2022Weather of 2022Tropical Storm Bret (1993) – another deadly system that took a similar track over the northern coast of South AmericaHurricane Otto (2016) – another Atlantic hurricane which traversed a similar path, eventually becoming an Eastern Pacific tropical stormHurricane Nana (2020) – another cyclone that took a similar track that also affected Central AmericaHurricane Iota (2020) – an intense hurricane that had a similar track, affecting Central AmericaHurricane Bonnie (2022) – had a similar track and crossed over into the Eastern Pacific basin as a tropical storm three months before JuliaThe National Hurricane Center's advisory archive on Hurricane Julia (Atlantic Basin)The National Hurricane Center's advisory archive on Tropical Storm Julia (Eastern Pacific Basin)\""
            ],
            "application/vnd.google.colaboratory.intrinsic+json": {
              "type": "string"
            }
          },
          "metadata": {},
          "execution_count": 182
        }
      ]
    },
    {
      "cell_type": "markdown",
      "source": [
        "Para simplificar el posterior análisis:\n",
        "\n",
        "* Pasamos todas las palabras del texto a minúsculas . \n",
        "* Descompondremos el texto en palabras dentro de una lista. \"Tokenizar\""
      ],
      "metadata": {
        "id": "GuzjpBJ00XgT"
      }
    },
    {
      "cell_type": "code",
      "source": [
        "text = text.lower()\n",
        "tokenized_word=word_tokenize(text)\n",
        "\n",
        "tokenized_word = [w for w in tokenized_word if w.isalpha()]\n",
        "\n",
        "print(tokenized_word)"
      ],
      "metadata": {
        "colab": {
          "base_uri": "https://localhost:8080/"
        },
        "id": "R5F1Whl50W0_",
        "outputId": "dcc3322e-83e8-43f4-ea99-a32d9e77b6f4"
      },
      "execution_count": null,
      "outputs": [
        {
          "output_type": "stream",
          "name": "stdout",
          "text": [
            "['hurricane', 'julia', 'was', 'a', 'deadly', 'tropical', 'cyclone', 'that', 'caused', 'significant', 'impacts', 'in', 'central', 'america', 'as', 'a', 'category', 'hurricane', 'in', 'october', 'the', 'tenth', 'named', 'storm', 'and', 'fifth', 'hurricane', 'of', 'the', 'atlantic', 'hurricane', 'season', 'julia', 'originated', 'from', 'a', 'tropical', 'wave', 'in', 'the', 'tropical', 'north', 'atlantic', 'ocean', 'and', 'became', 'a', 'named', 'storm', 'on', 'october', 'it', 'took', 'a', 'southerly', 'course', 'through', 'the', 'caribbean', 'and', 'passed', 'just', 'off', 'the', 'coast', 'of', 'venezuela', 'at', 'the', 'time', 'it', 'became', 'a', 'tropical', 'cyclone', 'only', 'one', 'storm', 'on', 'record', 'tropical', 'storm', 'bret', 'in', 'has', 'tracked', 'further', 'south', 'over', 'south', 'october', 'it', 'became', 'a', 'hurricane', 'and', 'proceeded', 'to', 'make', 'landfall', 'in', 'nicaragua', 'it', 'emerged', 'into', 'the', 'pacific', 'ocean', 'as', 'a', 'tropical', 'storm', 'on', 'october', 'becoming', 'the', 'eighteenth', 'tropical', 'storm', 'of', 'the', 'pacific', 'hurricane', 'season', 'and', 'the', 'second', 'storm', 'of', 'the', 'season', 'to', 'survive', 'the', 'crossover', 'between', 'the', 'basin', 'after', 'bonnie', 'in', 'july', 'the', 'storm', 'then', 'briefly', 'moved', 'along', 'the', 'coast', 'of', 'el', 'salvador', 'before', 'moving', 'inland', 'and', 'degenerating', 'into', 'a', 'remnant', 'low', 'over', 'guatemala', 'on', 'october', 'julia', 'brought', 'heavy', 'rains', 'that', 'caused', 'flash', 'floods', 'and', 'deadly', 'mudslides', 'in', 'northern', 'venezuela', 'and', 'much', 'of', 'central', 'october', 'the', 'national', 'hurricane', 'center', 'nhc', 'began', 'monitoring', 'a', 'tropical', 'wave', 'over', 'the', 'central', 'tropical', 'atlantic', 'a', 'broad', 'area', 'of', 'low', 'pressure', 'formed', 'on', 'october', 'as', 'it', 'approached', 'the', 'southern', 'windward', 'islands', 'due', 'to', 'the', 'threat', 'the', 'developing', 'system', 'posed', 'to', 'land', 'areas', 'in', 'the', 'southern', 'caribbean', 'the', 'nhc', 'initiated', 'advisories', 'on', 'it', 'as', 'potential', 'tropical', 'cyclone', 'thirteen', 'on', 'october', 'later', 'that', 'day', 'after', 'satellite', 'imagery', 'and', 'radar', 'data', 'indicated', 'that', 'the', 'disturbance', 'had', 'attained', 'sufficient', 'circulation', 'and', 'organized', 'convection', 'and', 'after', 'hurricane', 'hunter', 'survey', 'data', 'showed', 'the', 'presence', 'of', 'mph', 'winds', 'north', 'of', 'the', 'center', 'it', 'was', 'designated', 'as', 'a', 'tropical', 'depression', 'a', 'strong', 'burst', 'of', 'deep', 'convection', 'developed', 'near', 'the', 'center', 'of', 'the', 'depression', 'as', 'it', 'moved', 'across', 'the', 'guajira', 'peninsula', 'in', 'the', 'early', 'morning', 'of', 'october', 'and', 'soon', 'afterwards', 'it', 'strengthened', 'into', 'tropical', 'storm', 'julia', 'afterward', 'the', 'morning', 'burst', 'of', 'deep', 'convection', 'was', 'stripped', 'away', 'by', 'northwesterly', 'shear', 'and', 'the', 'storm', 'center', 'was', 'exposed', 'for', 'the', 'next', 'several', 'was', 'an', 'increase', 'in', 'persistent', 'and', 'deep', 'convection', 'over', 'the', 'center', 'and', 'the', 'system', 'began', 'to', 'gain', 'strength', 'julia', 'became', 'a', 'hurricane', 'at', 'utc', 'on', 'october', 'and', 'reached', 'its', 'peak', 'intensity', 'at', 'utc', 'on', 'october', 'with', 'maximum', 'sustained', 'winds', 'of', 'mph', 'and', 'a', 'minimum', 'central', 'pressure', 'of', 'mbar', 'inhg', 'at', 'utc', 'the', 'storm', 'made', 'landfall', 'near', 'pearl', 'lagoon', 'nicaragua', 'at', 'the', 'same', 'intensity', 'the', 'system', 'then', 'gradually', 'weakened', 'to', 'a', 'tropical', 'storm', 'as', 'it', 'moved', 'westward', 'across', 'nicaragua', 'while', 'maintaining', 'a', 'circulation', 'and', 'deep', 'convection', 'persisting', 'near', 'the', 'center', 'late', 'on', 'october', 'julia', 'left', 'the', 'atlantic', 'basin', 'and', 'was', 'designated', 'as', 'an', 'east', 'pacific', 'tropical', 'storm', 'three', 'hours', 'later', 'its', 'center', 'emerged', 'offshore', 'into', 'the', 'pacific', 'where', 'it', 'continued', 'to', 'weaken', 'it', 'maintained', 'a', 'band', 'of', 'deep', 'convection', 'over', 'the', 'southern', 'and', 'eastern', 'portions', 'of', 'its', 'circulation', 'at', 'utc', 'on', 'october', 'the', 'center', 'of', 'the', 'storm', 'crossed', 'the', 'coast', 'of', 'el', 'salvador', 'about', 'mi', 'km', 'west', 'of', 'san', 'salvador', 'and', 'then', 'weakened', 'to', 'a', 'tropical', 'depression', 'later', 'that', 'same', 'day', 'julia', 'degenerated', 'into', 'a', 'remnant', 'low', 'that', 'extended', 'from', 'offshore', 'of', 'guatemala', 'to', 'extreme', 'southeastern', 'october', 'the', 'disturbance', 'brought', 'heavy', 'thunderstorms', 'to', 'several', 'of', 'south', 'america', 'windward', 'islands', 'and', 'the', 'caribbean', 'coast', 'more', 'than', 'in', 'mm', 'of', 'rain', 'fell', 'in', 'trinidad', 'and', 'tobago', 'in', 'less', 'than', 'a', 'causing', 'significant', 'flash', 'flooding', 'that', 'flooding', 'resulted', 'in', 'one', 'fatality', 'after', 'a', 'woman', 'was', 'swept', 'away', 'while', 'trying', 'to', 'cross', 'a', 'river', 'and', 'rain', 'from', 'the', 'storm', 'caused', 'widespread', 'flooding', 'and', 'landslides', 'in', 'las', 'tejerías', 'in', 'venezuela', 'at', 'least', 'people', 'died', 'and', 'went', 'missing', 'when', 'mud', 'and', 'debris', 'inundated', 'the', 'town', 'people', 'were', 'deployed', 'to', 'search', 'for', 'center', 'of', 'julia', 'passed', 'just', 'south', 'of', 'san', 'andrés', 'island', 'as', 'it', 'was', 'reaching', 'hurricane', 'strength', 'east', 'of', 'nicaragua', 'at', 'least', 'homes', 'were', 'destroyed', 'by', 'julia', 'and', 'homes', 'and', 'a', 'health', 'center', 'were', 'damaged', 'there', 'have', 'been', 'no', 'reports', 'of', 'fatalities', 'honduras', 'the', 'government', 'of', 'honduras', 'opened', 'more', 'than', 'shelters', 'nationwide', 'with', 'people', 'utilizing', 'them', 'by', 'october', 'a', 'red', 'alert', 'the', 'highest', 'level', 'of', 'warning', 'was', 'issued', 'for', 'of', 'honduras', 'departments', 'many', 'homes', 'were', 'flooded', 'along', 'the', 'chamelecón', 'river', 'which', 'continued', 'to', 'rise', 'as', 'of', 'october', 'heavy', 'rains', 'brought', 'water', 'levels', 'at', 'the', 'la', 'concepcion', 'dam', 'and', 'jose', 'cecilio', 'del', 'valle', 'dam', 'above', 'their', 'maximum', 'capacity', 'the', 'ulúa', 'river', 'rose', 'to', 'ft', 'm', 'near', 'santiago', 'exceeding', 'the', 'red', 'alert', 'stage', 'for', 'flooding', 'the', 'most', 'significant', 'effects', 'were', 'felt', 'in', 'yoro', 'department', 'throughout', 'honduras', 'julia', 'killed', 'four', 'people', 'and', 'left', 'two', 'others', 'missing', 'as', 'of', 'october', 'a', 'total', 'of', 'people', 'were', 'affected', 'of', 'whom', 'required', 'evacuation', 'a', 'total', 'of', 'homes', 'were', 'destroyed', 'and', 'a', 'further', 'suffered', 'varying', 'degrees', 'of', 'damage', 'guatemala', 'a', 'total', 'of', 'people', 'were', 'affected', 'throughout', 'guatemala', 'of', 'whom', 'required', 'evacuation', 'at', 'least', 'people', 'died', 'throughout', 'guatemala', 'nine', 'in', 'huehuetenango', 'department', 'and', 'five', 'in', 'alta', 'verapaz', 'department', 'nicaragua', 'the', 'hurricane', 'left', 'at', 'least', 'million', 'people', 'without', 'power', 'and', 'forced', 'the', 'evacuation', 'of', 'families', 'panama', 'two', 'people', 'died', 'in', 'panama', 'near', 'the', 'border', 'with', 'costa', 'rica', 'and', 'around', 'people', 'required', 'evacuation', 'the', 'ministry', 'of', 'education', 'of', 'panama', 'suspended', 'classes', 'on', 'october', 'a', 'total', 'of', 'two', 'landslides', 'were', 'reported', 'due', 'to', 'heavy', 'rains', 'nearly', 'people', 'were', 'affected', 'el', 'salvador', 'on', 'october', 'the', 'government', 'of', 'el', 'salvador', 'declared', 'an', 'orange', 'alert', 'for', 'the', 'entire', 'territory', 'due', 'to', 'the', 'approaching', 'storm', 'fishing', 'and', 'recreational', 'activities', 'in', 'rivers', 'beaches', 'and', 'lakes', 'were', 'suspended', 'until', 'october', 'shelters', 'for', 'people', 'were', 'prepared', 'a', 'state', 'of', 'national', 'emergency', 'was', 'declared', 'due', 'to', 'the', 'hurricane', 'the', 'government', 'ended', 'up', 'declaring', 'a', 'red', 'alert', 'for', 'civil', 'protection', 'due', 'to', 'the', 'winds', 'throughout', 'the', 'national', 'territory', 'tree', 'falls', 'were', 'reported', 'in', 'different', 'municipalities', 'impeding', 'traffic', 'and', 'damaging', 'cars', 'falling', 'branches', 'blocked', 'several', 'major', 'highways', 'roads', 'were', 'also', 'damaged', 'by', 'landslides', 'five', 'soldiers', 'died', 'and', 'another', 'was', 'injured', 'in', 'comasagua', 'when', 'the', 'home', 'they', 'were', 'seeking', 'refuge', 'in', 'collapsed', 'in', 'all', 'julia', 'was', 'responsible', 'for', 'ten', 'deaths', 'in', 'el', 'of', 'crossover', 'hurricaneslist', 'of', 'category', 'atlantic', 'hurricanestimeline', 'of', 'the', 'atlantic', 'hurricane', 'seasontimeline', 'of', 'the', 'pacific', 'hurricane', 'seasontropical', 'cyclones', 'in', 'of', 'storm', 'bret', 'another', 'deadly', 'system', 'that', 'took', 'a', 'similar', 'track', 'over', 'the', 'northern', 'coast', 'of', 'south', 'americahurricane', 'otto', 'another', 'atlantic', 'hurricane', 'which', 'traversed', 'a', 'similar', 'path', 'eventually', 'becoming', 'an', 'eastern', 'pacific', 'tropical', 'stormhurricane', 'nana', 'another', 'cyclone', 'that', 'took', 'a', 'similar', 'track', 'that', 'also', 'affected', 'central', 'americahurricane', 'iota', 'an', 'intense', 'hurricane', 'that', 'had', 'a', 'similar', 'track', 'affecting', 'central', 'americahurricane', 'bonnie', 'had', 'a', 'similar', 'track', 'and', 'crossed', 'over', 'into', 'the', 'eastern', 'pacific', 'basin', 'as', 'a', 'tropical', 'storm', 'three', 'months', 'before', 'juliathe', 'national', 'hurricane', 'center', 'advisory', 'archive', 'on', 'hurricane', 'julia', 'atlantic', 'basin', 'the', 'national', 'hurricane', 'center', 'advisory', 'archive', 'on', 'tropical', 'storm', 'julia', 'eastern', 'pacific', 'basin']\n"
          ]
        }
      ]
    },
    {
      "cell_type": "markdown",
      "source": [
        "El texto se compone de 1119 palabras de las cuales 407 son únicas."
      ],
      "metadata": {
        "id": "l060PbR2004J"
      }
    },
    {
      "cell_type": "code",
      "source": [
        "fdist = FreqDist(tokenized_word)\n",
        "print(fdist)"
      ],
      "metadata": {
        "colab": {
          "base_uri": "https://localhost:8080/"
        },
        "id": "DS-tBZNB0zhH",
        "outputId": "b4632875-b711-4afb-de64-9ca53e36493c"
      },
      "execution_count": null,
      "outputs": [
        {
          "output_type": "stream",
          "name": "stdout",
          "text": [
            "<FreqDist with 407 samples and 1119 outcomes>\n"
          ]
        }
      ]
    },
    {
      "cell_type": "markdown",
      "source": [
        "Veamos como se distribuyen las primeras 15 palabras mas repetidas."
      ],
      "metadata": {
        "id": "XpHQIkW203UX"
      }
    },
    {
      "cell_type": "code",
      "source": [
        "word_df = pd.DataFrame(fdist.most_common(15))\n",
        "word_df.columns = ['Common_words','count']\n",
        "word_df.style.background_gradient(cmap='YlOrRd')"
      ],
      "metadata": {
        "colab": {
          "base_uri": "https://localhost:8080/",
          "height": 520
        },
        "id": "t9JsrVPn033E",
        "outputId": "8993e0fc-fd91-4ba0-9f0a-5e7ea32d8919"
      },
      "execution_count": null,
      "outputs": [
        {
          "output_type": "execute_result",
          "data": {
            "text/plain": [
              "<pandas.io.formats.style.Styler at 0x7fb6dcfb1e90>"
            ],
            "text/html": [
              "<style type=\"text/css\">\n",
              "#T_f0021_row0_col1 {\n",
              "  background-color: #800026;\n",
              "  color: #f1f1f1;\n",
              "}\n",
              "#T_f0021_row1_col1 {\n",
              "  background-color: #fa4a29;\n",
              "  color: #f1f1f1;\n",
              "}\n",
              "#T_f0021_row2_col1 {\n",
              "  background-color: #fd9740;\n",
              "  color: #000000;\n",
              "}\n",
              "#T_f0021_row3_col1 {\n",
              "  background-color: #fea145;\n",
              "  color: #000000;\n",
              "}\n",
              "#T_f0021_row4_col1 {\n",
              "  background-color: #fed976;\n",
              "  color: #000000;\n",
              "}\n",
              "#T_f0021_row5_col1 {\n",
              "  background-color: #ffec9d;\n",
              "  color: #000000;\n",
              "}\n",
              "#T_f0021_row6_col1, #T_f0021_row7_col1 {\n",
              "  background-color: #ffefa4;\n",
              "  color: #000000;\n",
              "}\n",
              "#T_f0021_row8_col1, #T_f0021_row9_col1 {\n",
              "  background-color: #fff1a9;\n",
              "  color: #000000;\n",
              "}\n",
              "#T_f0021_row10_col1, #T_f0021_row11_col1 {\n",
              "  background-color: #fff8bb;\n",
              "  color: #000000;\n",
              "}\n",
              "#T_f0021_row12_col1, #T_f0021_row13_col1 {\n",
              "  background-color: #fffdc6;\n",
              "  color: #000000;\n",
              "}\n",
              "#T_f0021_row14_col1 {\n",
              "  background-color: #ffffcc;\n",
              "  color: #000000;\n",
              "}\n",
              "</style>\n",
              "<table id=\"T_f0021_\" class=\"dataframe\">\n",
              "  <thead>\n",
              "    <tr>\n",
              "      <th class=\"blank level0\" >&nbsp;</th>\n",
              "      <th class=\"col_heading level0 col0\" >Common_words</th>\n",
              "      <th class=\"col_heading level0 col1\" >count</th>\n",
              "    </tr>\n",
              "  </thead>\n",
              "  <tbody>\n",
              "    <tr>\n",
              "      <th id=\"T_f0021_level0_row0\" class=\"row_heading level0 row0\" >0</th>\n",
              "      <td id=\"T_f0021_row0_col0\" class=\"data row0 col0\" >the</td>\n",
              "      <td id=\"T_f0021_row0_col1\" class=\"data row0 col1\" >72</td>\n",
              "    </tr>\n",
              "    <tr>\n",
              "      <th id=\"T_f0021_level0_row1\" class=\"row_heading level0 row1\" >1</th>\n",
              "      <td id=\"T_f0021_row1_col0\" class=\"data row1 col0\" >of</td>\n",
              "      <td id=\"T_f0021_row1_col1\" class=\"data row1 col1\" >50</td>\n",
              "    </tr>\n",
              "    <tr>\n",
              "      <th id=\"T_f0021_level0_row2\" class=\"row_heading level0 row2\" >2</th>\n",
              "      <td id=\"T_f0021_row2_col0\" class=\"data row2 col0\" >and</td>\n",
              "      <td id=\"T_f0021_row2_col1\" class=\"data row2 col1\" >40</td>\n",
              "    </tr>\n",
              "    <tr>\n",
              "      <th id=\"T_f0021_level0_row3\" class=\"row_heading level0 row3\" >3</th>\n",
              "      <td id=\"T_f0021_row3_col0\" class=\"data row3 col0\" >a</td>\n",
              "      <td id=\"T_f0021_row3_col1\" class=\"data row3 col1\" >38</td>\n",
              "    </tr>\n",
              "    <tr>\n",
              "      <th id=\"T_f0021_level0_row4\" class=\"row_heading level0 row4\" >4</th>\n",
              "      <td id=\"T_f0021_row4_col0\" class=\"data row4 col0\" >in</td>\n",
              "      <td id=\"T_f0021_row4_col1\" class=\"data row4 col1\" >27</td>\n",
              "    </tr>\n",
              "    <tr>\n",
              "      <th id=\"T_f0021_level0_row5\" class=\"row_heading level0 row5\" >5</th>\n",
              "      <td id=\"T_f0021_row5_col0\" class=\"data row5 col0\" >october</td>\n",
              "      <td id=\"T_f0021_row5_col1\" class=\"data row5 col1\" >20</td>\n",
              "    </tr>\n",
              "    <tr>\n",
              "      <th id=\"T_f0021_level0_row6\" class=\"row_heading level0 row6\" >6</th>\n",
              "      <td id=\"T_f0021_row6_col0\" class=\"data row6 col0\" >hurricane</td>\n",
              "      <td id=\"T_f0021_row6_col1\" class=\"data row6 col1\" >19</td>\n",
              "    </tr>\n",
              "    <tr>\n",
              "      <th id=\"T_f0021_level0_row7\" class=\"row_heading level0 row7\" >7</th>\n",
              "      <td id=\"T_f0021_row7_col0\" class=\"data row7 col0\" >storm</td>\n",
              "      <td id=\"T_f0021_row7_col1\" class=\"data row7 col1\" >19</td>\n",
              "    </tr>\n",
              "    <tr>\n",
              "      <th id=\"T_f0021_level0_row8\" class=\"row_heading level0 row8\" >8</th>\n",
              "      <td id=\"T_f0021_row8_col0\" class=\"data row8 col0\" >tropical</td>\n",
              "      <td id=\"T_f0021_row8_col1\" class=\"data row8 col1\" >18</td>\n",
              "    </tr>\n",
              "    <tr>\n",
              "      <th id=\"T_f0021_level0_row9\" class=\"row_heading level0 row9\" >9</th>\n",
              "      <td id=\"T_f0021_row9_col0\" class=\"data row9 col0\" >to</td>\n",
              "      <td id=\"T_f0021_row9_col1\" class=\"data row9 col1\" >18</td>\n",
              "    </tr>\n",
              "    <tr>\n",
              "      <th id=\"T_f0021_level0_row10\" class=\"row_heading level0 row10\" >10</th>\n",
              "      <td id=\"T_f0021_row10_col0\" class=\"data row10 col0\" >on</td>\n",
              "      <td id=\"T_f0021_row10_col1\" class=\"data row10 col1\" >15</td>\n",
              "    </tr>\n",
              "    <tr>\n",
              "      <th id=\"T_f0021_level0_row11\" class=\"row_heading level0 row11\" >11</th>\n",
              "      <td id=\"T_f0021_row11_col0\" class=\"data row11 col0\" >were</td>\n",
              "      <td id=\"T_f0021_row11_col1\" class=\"data row11 col1\" >15</td>\n",
              "    </tr>\n",
              "    <tr>\n",
              "      <th id=\"T_f0021_level0_row12\" class=\"row_heading level0 row12\" >12</th>\n",
              "      <td id=\"T_f0021_row12_col0\" class=\"data row12 col0\" >julia</td>\n",
              "      <td id=\"T_f0021_row12_col1\" class=\"data row12 col1\" >13</td>\n",
              "    </tr>\n",
              "    <tr>\n",
              "      <th id=\"T_f0021_level0_row13\" class=\"row_heading level0 row13\" >13</th>\n",
              "      <td id=\"T_f0021_row13_col0\" class=\"data row13 col0\" >it</td>\n",
              "      <td id=\"T_f0021_row13_col1\" class=\"data row13 col1\" >13</td>\n",
              "    </tr>\n",
              "    <tr>\n",
              "      <th id=\"T_f0021_level0_row14\" class=\"row_heading level0 row14\" >14</th>\n",
              "      <td id=\"T_f0021_row14_col0\" class=\"data row14 col0\" >was</td>\n",
              "      <td id=\"T_f0021_row14_col1\" class=\"data row14 col1\" >12</td>\n",
              "    </tr>\n",
              "  </tbody>\n",
              "</table>\n"
            ]
          },
          "metadata": {},
          "execution_count": 185
        }
      ]
    },
    {
      "cell_type": "code",
      "source": [
        "fig = px.bar(word_df, x=\"count\", y=\"Common_words\", title='Commmon Words in Selected Text', orientation='h', \n",
        "             width=700, height=700,color='count')\n",
        "fig.show()"
      ],
      "metadata": {
        "colab": {
          "base_uri": "https://localhost:8080/",
          "height": 717
        },
        "id": "IZzNJtYF1lHB",
        "outputId": "1466db82-e553-45dd-bd03-90974cf6d404"
      },
      "execution_count": null,
      "outputs": [
        {
          "output_type": "display_data",
          "data": {
            "text/html": [
              "<html>\n",
              "<head><meta charset=\"utf-8\" /></head>\n",
              "<body>\n",
              "    <div>            <script src=\"https://cdnjs.cloudflare.com/ajax/libs/mathjax/2.7.5/MathJax.js?config=TeX-AMS-MML_SVG\"></script><script type=\"text/javascript\">if (window.MathJax) {MathJax.Hub.Config({SVG: {font: \"STIX-Web\"}});}</script>                <script type=\"text/javascript\">window.PlotlyConfig = {MathJaxConfig: 'local'};</script>\n",
              "        <script src=\"https://cdn.plot.ly/plotly-2.8.3.min.js\"></script>                <div id=\"8318e783-59bd-4049-bebf-105d18656500\" class=\"plotly-graph-div\" style=\"height:700px; width:700px;\"></div>            <script type=\"text/javascript\">                                    window.PLOTLYENV=window.PLOTLYENV || {};                                    if (document.getElementById(\"8318e783-59bd-4049-bebf-105d18656500\")) {                    Plotly.newPlot(                        \"8318e783-59bd-4049-bebf-105d18656500\",                        [{\"alignmentgroup\":\"True\",\"hovertemplate\":\"count=%{marker.color}<br>Common_words=%{y}<extra></extra>\",\"legendgroup\":\"\",\"marker\":{\"color\":[72,50,40,38,27,20,19,19,18,18,15,15,13,13,12],\"coloraxis\":\"coloraxis\",\"pattern\":{\"shape\":\"\"}},\"name\":\"\",\"offsetgroup\":\"\",\"orientation\":\"h\",\"showlegend\":false,\"textposition\":\"auto\",\"x\":[72,50,40,38,27,20,19,19,18,18,15,15,13,13,12],\"xaxis\":\"x\",\"y\":[\"the\",\"of\",\"and\",\"a\",\"in\",\"october\",\"hurricane\",\"storm\",\"tropical\",\"to\",\"on\",\"were\",\"julia\",\"it\",\"was\"],\"yaxis\":\"y\",\"type\":\"bar\"}],                        {\"template\":{\"data\":{\"bar\":[{\"error_x\":{\"color\":\"#2a3f5f\"},\"error_y\":{\"color\":\"#2a3f5f\"},\"marker\":{\"line\":{\"color\":\"#E5ECF6\",\"width\":0.5},\"pattern\":{\"fillmode\":\"overlay\",\"size\":10,\"solidity\":0.2}},\"type\":\"bar\"}],\"barpolar\":[{\"marker\":{\"line\":{\"color\":\"#E5ECF6\",\"width\":0.5},\"pattern\":{\"fillmode\":\"overlay\",\"size\":10,\"solidity\":0.2}},\"type\":\"barpolar\"}],\"carpet\":[{\"aaxis\":{\"endlinecolor\":\"#2a3f5f\",\"gridcolor\":\"white\",\"linecolor\":\"white\",\"minorgridcolor\":\"white\",\"startlinecolor\":\"#2a3f5f\"},\"baxis\":{\"endlinecolor\":\"#2a3f5f\",\"gridcolor\":\"white\",\"linecolor\":\"white\",\"minorgridcolor\":\"white\",\"startlinecolor\":\"#2a3f5f\"},\"type\":\"carpet\"}],\"choropleth\":[{\"colorbar\":{\"outlinewidth\":0,\"ticks\":\"\"},\"type\":\"choropleth\"}],\"contour\":[{\"colorbar\":{\"outlinewidth\":0,\"ticks\":\"\"},\"colorscale\":[[0.0,\"#0d0887\"],[0.1111111111111111,\"#46039f\"],[0.2222222222222222,\"#7201a8\"],[0.3333333333333333,\"#9c179e\"],[0.4444444444444444,\"#bd3786\"],[0.5555555555555556,\"#d8576b\"],[0.6666666666666666,\"#ed7953\"],[0.7777777777777778,\"#fb9f3a\"],[0.8888888888888888,\"#fdca26\"],[1.0,\"#f0f921\"]],\"type\":\"contour\"}],\"contourcarpet\":[{\"colorbar\":{\"outlinewidth\":0,\"ticks\":\"\"},\"type\":\"contourcarpet\"}],\"heatmap\":[{\"colorbar\":{\"outlinewidth\":0,\"ticks\":\"\"},\"colorscale\":[[0.0,\"#0d0887\"],[0.1111111111111111,\"#46039f\"],[0.2222222222222222,\"#7201a8\"],[0.3333333333333333,\"#9c179e\"],[0.4444444444444444,\"#bd3786\"],[0.5555555555555556,\"#d8576b\"],[0.6666666666666666,\"#ed7953\"],[0.7777777777777778,\"#fb9f3a\"],[0.8888888888888888,\"#fdca26\"],[1.0,\"#f0f921\"]],\"type\":\"heatmap\"}],\"heatmapgl\":[{\"colorbar\":{\"outlinewidth\":0,\"ticks\":\"\"},\"colorscale\":[[0.0,\"#0d0887\"],[0.1111111111111111,\"#46039f\"],[0.2222222222222222,\"#7201a8\"],[0.3333333333333333,\"#9c179e\"],[0.4444444444444444,\"#bd3786\"],[0.5555555555555556,\"#d8576b\"],[0.6666666666666666,\"#ed7953\"],[0.7777777777777778,\"#fb9f3a\"],[0.8888888888888888,\"#fdca26\"],[1.0,\"#f0f921\"]],\"type\":\"heatmapgl\"}],\"histogram\":[{\"marker\":{\"pattern\":{\"fillmode\":\"overlay\",\"size\":10,\"solidity\":0.2}},\"type\":\"histogram\"}],\"histogram2d\":[{\"colorbar\":{\"outlinewidth\":0,\"ticks\":\"\"},\"colorscale\":[[0.0,\"#0d0887\"],[0.1111111111111111,\"#46039f\"],[0.2222222222222222,\"#7201a8\"],[0.3333333333333333,\"#9c179e\"],[0.4444444444444444,\"#bd3786\"],[0.5555555555555556,\"#d8576b\"],[0.6666666666666666,\"#ed7953\"],[0.7777777777777778,\"#fb9f3a\"],[0.8888888888888888,\"#fdca26\"],[1.0,\"#f0f921\"]],\"type\":\"histogram2d\"}],\"histogram2dcontour\":[{\"colorbar\":{\"outlinewidth\":0,\"ticks\":\"\"},\"colorscale\":[[0.0,\"#0d0887\"],[0.1111111111111111,\"#46039f\"],[0.2222222222222222,\"#7201a8\"],[0.3333333333333333,\"#9c179e\"],[0.4444444444444444,\"#bd3786\"],[0.5555555555555556,\"#d8576b\"],[0.6666666666666666,\"#ed7953\"],[0.7777777777777778,\"#fb9f3a\"],[0.8888888888888888,\"#fdca26\"],[1.0,\"#f0f921\"]],\"type\":\"histogram2dcontour\"}],\"mesh3d\":[{\"colorbar\":{\"outlinewidth\":0,\"ticks\":\"\"},\"type\":\"mesh3d\"}],\"parcoords\":[{\"line\":{\"colorbar\":{\"outlinewidth\":0,\"ticks\":\"\"}},\"type\":\"parcoords\"}],\"pie\":[{\"automargin\":true,\"type\":\"pie\"}],\"scatter\":[{\"marker\":{\"colorbar\":{\"outlinewidth\":0,\"ticks\":\"\"}},\"type\":\"scatter\"}],\"scatter3d\":[{\"line\":{\"colorbar\":{\"outlinewidth\":0,\"ticks\":\"\"}},\"marker\":{\"colorbar\":{\"outlinewidth\":0,\"ticks\":\"\"}},\"type\":\"scatter3d\"}],\"scattercarpet\":[{\"marker\":{\"colorbar\":{\"outlinewidth\":0,\"ticks\":\"\"}},\"type\":\"scattercarpet\"}],\"scattergeo\":[{\"marker\":{\"colorbar\":{\"outlinewidth\":0,\"ticks\":\"\"}},\"type\":\"scattergeo\"}],\"scattergl\":[{\"marker\":{\"colorbar\":{\"outlinewidth\":0,\"ticks\":\"\"}},\"type\":\"scattergl\"}],\"scattermapbox\":[{\"marker\":{\"colorbar\":{\"outlinewidth\":0,\"ticks\":\"\"}},\"type\":\"scattermapbox\"}],\"scatterpolar\":[{\"marker\":{\"colorbar\":{\"outlinewidth\":0,\"ticks\":\"\"}},\"type\":\"scatterpolar\"}],\"scatterpolargl\":[{\"marker\":{\"colorbar\":{\"outlinewidth\":0,\"ticks\":\"\"}},\"type\":\"scatterpolargl\"}],\"scatterternary\":[{\"marker\":{\"colorbar\":{\"outlinewidth\":0,\"ticks\":\"\"}},\"type\":\"scatterternary\"}],\"surface\":[{\"colorbar\":{\"outlinewidth\":0,\"ticks\":\"\"},\"colorscale\":[[0.0,\"#0d0887\"],[0.1111111111111111,\"#46039f\"],[0.2222222222222222,\"#7201a8\"],[0.3333333333333333,\"#9c179e\"],[0.4444444444444444,\"#bd3786\"],[0.5555555555555556,\"#d8576b\"],[0.6666666666666666,\"#ed7953\"],[0.7777777777777778,\"#fb9f3a\"],[0.8888888888888888,\"#fdca26\"],[1.0,\"#f0f921\"]],\"type\":\"surface\"}],\"table\":[{\"cells\":{\"fill\":{\"color\":\"#EBF0F8\"},\"line\":{\"color\":\"white\"}},\"header\":{\"fill\":{\"color\":\"#C8D4E3\"},\"line\":{\"color\":\"white\"}},\"type\":\"table\"}]},\"layout\":{\"annotationdefaults\":{\"arrowcolor\":\"#2a3f5f\",\"arrowhead\":0,\"arrowwidth\":1},\"autotypenumbers\":\"strict\",\"coloraxis\":{\"colorbar\":{\"outlinewidth\":0,\"ticks\":\"\"}},\"colorscale\":{\"diverging\":[[0,\"#8e0152\"],[0.1,\"#c51b7d\"],[0.2,\"#de77ae\"],[0.3,\"#f1b6da\"],[0.4,\"#fde0ef\"],[0.5,\"#f7f7f7\"],[0.6,\"#e6f5d0\"],[0.7,\"#b8e186\"],[0.8,\"#7fbc41\"],[0.9,\"#4d9221\"],[1,\"#276419\"]],\"sequential\":[[0.0,\"#0d0887\"],[0.1111111111111111,\"#46039f\"],[0.2222222222222222,\"#7201a8\"],[0.3333333333333333,\"#9c179e\"],[0.4444444444444444,\"#bd3786\"],[0.5555555555555556,\"#d8576b\"],[0.6666666666666666,\"#ed7953\"],[0.7777777777777778,\"#fb9f3a\"],[0.8888888888888888,\"#fdca26\"],[1.0,\"#f0f921\"]],\"sequentialminus\":[[0.0,\"#0d0887\"],[0.1111111111111111,\"#46039f\"],[0.2222222222222222,\"#7201a8\"],[0.3333333333333333,\"#9c179e\"],[0.4444444444444444,\"#bd3786\"],[0.5555555555555556,\"#d8576b\"],[0.6666666666666666,\"#ed7953\"],[0.7777777777777778,\"#fb9f3a\"],[0.8888888888888888,\"#fdca26\"],[1.0,\"#f0f921\"]]},\"colorway\":[\"#636efa\",\"#EF553B\",\"#00cc96\",\"#ab63fa\",\"#FFA15A\",\"#19d3f3\",\"#FF6692\",\"#B6E880\",\"#FF97FF\",\"#FECB52\"],\"font\":{\"color\":\"#2a3f5f\"},\"geo\":{\"bgcolor\":\"white\",\"lakecolor\":\"white\",\"landcolor\":\"#E5ECF6\",\"showlakes\":true,\"showland\":true,\"subunitcolor\":\"white\"},\"hoverlabel\":{\"align\":\"left\"},\"hovermode\":\"closest\",\"mapbox\":{\"style\":\"light\"},\"paper_bgcolor\":\"white\",\"plot_bgcolor\":\"#E5ECF6\",\"polar\":{\"angularaxis\":{\"gridcolor\":\"white\",\"linecolor\":\"white\",\"ticks\":\"\"},\"bgcolor\":\"#E5ECF6\",\"radialaxis\":{\"gridcolor\":\"white\",\"linecolor\":\"white\",\"ticks\":\"\"}},\"scene\":{\"xaxis\":{\"backgroundcolor\":\"#E5ECF6\",\"gridcolor\":\"white\",\"gridwidth\":2,\"linecolor\":\"white\",\"showbackground\":true,\"ticks\":\"\",\"zerolinecolor\":\"white\"},\"yaxis\":{\"backgroundcolor\":\"#E5ECF6\",\"gridcolor\":\"white\",\"gridwidth\":2,\"linecolor\":\"white\",\"showbackground\":true,\"ticks\":\"\",\"zerolinecolor\":\"white\"},\"zaxis\":{\"backgroundcolor\":\"#E5ECF6\",\"gridcolor\":\"white\",\"gridwidth\":2,\"linecolor\":\"white\",\"showbackground\":true,\"ticks\":\"\",\"zerolinecolor\":\"white\"}},\"shapedefaults\":{\"line\":{\"color\":\"#2a3f5f\"}},\"ternary\":{\"aaxis\":{\"gridcolor\":\"white\",\"linecolor\":\"white\",\"ticks\":\"\"},\"baxis\":{\"gridcolor\":\"white\",\"linecolor\":\"white\",\"ticks\":\"\"},\"bgcolor\":\"#E5ECF6\",\"caxis\":{\"gridcolor\":\"white\",\"linecolor\":\"white\",\"ticks\":\"\"}},\"title\":{\"x\":0.05},\"xaxis\":{\"automargin\":true,\"gridcolor\":\"white\",\"linecolor\":\"white\",\"ticks\":\"\",\"title\":{\"standoff\":15},\"zerolinecolor\":\"white\",\"zerolinewidth\":2},\"yaxis\":{\"automargin\":true,\"gridcolor\":\"white\",\"linecolor\":\"white\",\"ticks\":\"\",\"title\":{\"standoff\":15},\"zerolinecolor\":\"white\",\"zerolinewidth\":2}}},\"xaxis\":{\"anchor\":\"y\",\"domain\":[0.0,1.0],\"title\":{\"text\":\"count\"}},\"yaxis\":{\"anchor\":\"x\",\"domain\":[0.0,1.0],\"title\":{\"text\":\"Common_words\"}},\"coloraxis\":{\"colorbar\":{\"title\":{\"text\":\"count\"}},\"colorscale\":[[0.0,\"#0d0887\"],[0.1111111111111111,\"#46039f\"],[0.2222222222222222,\"#7201a8\"],[0.3333333333333333,\"#9c179e\"],[0.4444444444444444,\"#bd3786\"],[0.5555555555555556,\"#d8576b\"],[0.6666666666666666,\"#ed7953\"],[0.7777777777777778,\"#fb9f3a\"],[0.8888888888888888,\"#fdca26\"],[1.0,\"#f0f921\"]]},\"legend\":{\"tracegroupgap\":0},\"title\":{\"text\":\"Commmon Words in Selected Text\"},\"barmode\":\"relative\",\"height\":700,\"width\":700},                        {\"responsive\": true}                    ).then(function(){\n",
              "                            \n",
              "var gd = document.getElementById('8318e783-59bd-4049-bebf-105d18656500');\n",
              "var x = new MutationObserver(function (mutations, observer) {{\n",
              "        var display = window.getComputedStyle(gd).display;\n",
              "        if (!display || display === 'none') {{\n",
              "            console.log([gd, 'removed!']);\n",
              "            Plotly.purge(gd);\n",
              "            observer.disconnect();\n",
              "        }}\n",
              "}});\n",
              "\n",
              "// Listen for the removal of the full notebook cells\n",
              "var notebookContainer = gd.closest('#notebook-container');\n",
              "if (notebookContainer) {{\n",
              "    x.observe(notebookContainer, {childList: true});\n",
              "}}\n",
              "\n",
              "// Listen for the clearing of the current output cell\n",
              "var outputEl = gd.closest('.output');\n",
              "if (outputEl) {{\n",
              "    x.observe(outputEl, {childList: true});\n",
              "}}\n",
              "\n",
              "                        })                };                            </script>        </div>\n",
              "</body>\n",
              "</html>"
            ]
          },
          "metadata": {}
        }
      ]
    },
    {
      "cell_type": "markdown",
      "metadata": {
        "id": "6YJAGjdQxznP"
      },
      "source": [
        "## Exercici 2\n",
        "###  Treu les stopwords i realitza stemming al teu conjunt de dades.\n",
        "\n"
      ]
    },
    {
      "cell_type": "markdown",
      "source": [
        "Aplicando Stopwords eliminaremos aquellas palabras que no le aportan significado real al texto. Ejemplos de stop words son: is, am, are, this, a, an, the, etc."
      ],
      "metadata": {
        "id": "1JG36b2L2oMf"
      }
    },
    {
      "cell_type": "code",
      "source": [
        "stop_words = set(stopwords.words(\"english\"))\n",
        "print(stop_words)\n"
      ],
      "metadata": {
        "colab": {
          "base_uri": "https://localhost:8080/"
        },
        "id": "qXK5wT35tgVR",
        "outputId": "c4e8e459-d47e-40d8-dd42-03b7b150f6db"
      },
      "execution_count": null,
      "outputs": [
        {
          "output_type": "stream",
          "name": "stdout",
          "text": [
            "{'you', 'has', 'we', 'here', 'if', 've', 'how', 'theirs', 'mightn', 'both', 'didn', 'she', 'before', 'was', 'him', 'more', 'been', 'nor', 'hers', \"you'd\", 'that', 'yourself', 'the', 'as', 'are', \"aren't\", 'ours', 'shan', 'shouldn', 'wasn', 'against', 'only', 'off', \"wasn't\", 'by', \"doesn't\", \"should've\", \"that'll\", \"haven't\", 'below', 'he', 'not', 'into', \"wouldn't\", 'her', 'do', 'will', \"needn't\", 'above', 't', \"didn't\", 'can', 'hadn', \"shan't\", 'while', 'who', 'yours', 'most', \"hadn't\", 'my', 'did', 'wouldn', 'it', 'should', 'a', 'so', 'i', \"you'll\", \"isn't\", 'during', 'from', 'ourselves', \"you've\", 'under', 'then', 'ma', 'for', 'same', 'over', 'any', 'why', 'to', 'those', \"weren't\", 'they', 'again', 'y', 'but', 'won', 'up', 'in', 'than', 'until', 'and', 'no', 'just', 'where', 'whom', 'after', \"shouldn't\", \"mustn't\", 'through', 'be', 're', 'an', 'very', 'weren', 'aren', 'when', 'hasn', 'were', 'out', 'once', 'all', 'few', 'doesn', \"you're\", 'some', 'o', 'now', 'had', 'their', 'other', 'm', 'themselves', 'too', 'them', 'herself', 'which', 'll', 'isn', 'what', 'does', 'needn', 'each', 'further', 'd', \"mightn't\", 'myself', 'haven', 'your', 'having', 'such', \"she's\", 'have', 'at', 'its', 'couldn', 'itself', \"won't\", 'this', \"it's\", 'these', 'ain', 'himself', \"couldn't\", 'yourselves', 'am', 'is', 'own', 'on', 'don', 'me', \"don't\", 'about', 'or', 's', 'between', 'our', 'doing', 'down', 'being', 'of', 'there', 'mustn', 'because', \"hasn't\", 'his', 'with'}\n"
          ]
        }
      ]
    },
    {
      "cell_type": "code",
      "source": [
        "filtered_word = [w for w in tokenized_word if w not in stop_words]\n",
        "\n",
        "print(\"Tokenized Words:\",tokenized_word)\n",
        "print(\"Filterd Words:\",filtered_word)"
      ],
      "metadata": {
        "colab": {
          "base_uri": "https://localhost:8080/"
        },
        "id": "tivv4iwj-peS",
        "outputId": "79e6989f-5b99-418d-e2c7-be64fbf520e7"
      },
      "execution_count": null,
      "outputs": [
        {
          "output_type": "stream",
          "name": "stdout",
          "text": [
            "Tokenized Words: ['hurricane', 'julia', 'was', 'a', 'deadly', 'tropical', 'cyclone', 'that', 'caused', 'significant', 'impacts', 'in', 'central', 'america', 'as', 'a', 'category', 'hurricane', 'in', 'october', 'the', 'tenth', 'named', 'storm', 'and', 'fifth', 'hurricane', 'of', 'the', 'atlantic', 'hurricane', 'season', 'julia', 'originated', 'from', 'a', 'tropical', 'wave', 'in', 'the', 'tropical', 'north', 'atlantic', 'ocean', 'and', 'became', 'a', 'named', 'storm', 'on', 'october', 'it', 'took', 'a', 'southerly', 'course', 'through', 'the', 'caribbean', 'and', 'passed', 'just', 'off', 'the', 'coast', 'of', 'venezuela', 'at', 'the', 'time', 'it', 'became', 'a', 'tropical', 'cyclone', 'only', 'one', 'storm', 'on', 'record', 'tropical', 'storm', 'bret', 'in', 'has', 'tracked', 'further', 'south', 'over', 'south', 'october', 'it', 'became', 'a', 'hurricane', 'and', 'proceeded', 'to', 'make', 'landfall', 'in', 'nicaragua', 'it', 'emerged', 'into', 'the', 'pacific', 'ocean', 'as', 'a', 'tropical', 'storm', 'on', 'october', 'becoming', 'the', 'eighteenth', 'tropical', 'storm', 'of', 'the', 'pacific', 'hurricane', 'season', 'and', 'the', 'second', 'storm', 'of', 'the', 'season', 'to', 'survive', 'the', 'crossover', 'between', 'the', 'basin', 'after', 'bonnie', 'in', 'july', 'the', 'storm', 'then', 'briefly', 'moved', 'along', 'the', 'coast', 'of', 'el', 'salvador', 'before', 'moving', 'inland', 'and', 'degenerating', 'into', 'a', 'remnant', 'low', 'over', 'guatemala', 'on', 'october', 'julia', 'brought', 'heavy', 'rains', 'that', 'caused', 'flash', 'floods', 'and', 'deadly', 'mudslides', 'in', 'northern', 'venezuela', 'and', 'much', 'of', 'central', 'october', 'the', 'national', 'hurricane', 'center', 'nhc', 'began', 'monitoring', 'a', 'tropical', 'wave', 'over', 'the', 'central', 'tropical', 'atlantic', 'a', 'broad', 'area', 'of', 'low', 'pressure', 'formed', 'on', 'october', 'as', 'it', 'approached', 'the', 'southern', 'windward', 'islands', 'due', 'to', 'the', 'threat', 'the', 'developing', 'system', 'posed', 'to', 'land', 'areas', 'in', 'the', 'southern', 'caribbean', 'the', 'nhc', 'initiated', 'advisories', 'on', 'it', 'as', 'potential', 'tropical', 'cyclone', 'thirteen', 'on', 'october', 'later', 'that', 'day', 'after', 'satellite', 'imagery', 'and', 'radar', 'data', 'indicated', 'that', 'the', 'disturbance', 'had', 'attained', 'sufficient', 'circulation', 'and', 'organized', 'convection', 'and', 'after', 'hurricane', 'hunter', 'survey', 'data', 'showed', 'the', 'presence', 'of', 'mph', 'winds', 'north', 'of', 'the', 'center', 'it', 'was', 'designated', 'as', 'a', 'tropical', 'depression', 'a', 'strong', 'burst', 'of', 'deep', 'convection', 'developed', 'near', 'the', 'center', 'of', 'the', 'depression', 'as', 'it', 'moved', 'across', 'the', 'guajira', 'peninsula', 'in', 'the', 'early', 'morning', 'of', 'october', 'and', 'soon', 'afterwards', 'it', 'strengthened', 'into', 'tropical', 'storm', 'julia', 'afterward', 'the', 'morning', 'burst', 'of', 'deep', 'convection', 'was', 'stripped', 'away', 'by', 'northwesterly', 'shear', 'and', 'the', 'storm', 'center', 'was', 'exposed', 'for', 'the', 'next', 'several', 'was', 'an', 'increase', 'in', 'persistent', 'and', 'deep', 'convection', 'over', 'the', 'center', 'and', 'the', 'system', 'began', 'to', 'gain', 'strength', 'julia', 'became', 'a', 'hurricane', 'at', 'utc', 'on', 'october', 'and', 'reached', 'its', 'peak', 'intensity', 'at', 'utc', 'on', 'october', 'with', 'maximum', 'sustained', 'winds', 'of', 'mph', 'and', 'a', 'minimum', 'central', 'pressure', 'of', 'mbar', 'inhg', 'at', 'utc', 'the', 'storm', 'made', 'landfall', 'near', 'pearl', 'lagoon', 'nicaragua', 'at', 'the', 'same', 'intensity', 'the', 'system', 'then', 'gradually', 'weakened', 'to', 'a', 'tropical', 'storm', 'as', 'it', 'moved', 'westward', 'across', 'nicaragua', 'while', 'maintaining', 'a', 'circulation', 'and', 'deep', 'convection', 'persisting', 'near', 'the', 'center', 'late', 'on', 'october', 'julia', 'left', 'the', 'atlantic', 'basin', 'and', 'was', 'designated', 'as', 'an', 'east', 'pacific', 'tropical', 'storm', 'three', 'hours', 'later', 'its', 'center', 'emerged', 'offshore', 'into', 'the', 'pacific', 'where', 'it', 'continued', 'to', 'weaken', 'it', 'maintained', 'a', 'band', 'of', 'deep', 'convection', 'over', 'the', 'southern', 'and', 'eastern', 'portions', 'of', 'its', 'circulation', 'at', 'utc', 'on', 'october', 'the', 'center', 'of', 'the', 'storm', 'crossed', 'the', 'coast', 'of', 'el', 'salvador', 'about', 'mi', 'km', 'west', 'of', 'san', 'salvador', 'and', 'then', 'weakened', 'to', 'a', 'tropical', 'depression', 'later', 'that', 'same', 'day', 'julia', 'degenerated', 'into', 'a', 'remnant', 'low', 'that', 'extended', 'from', 'offshore', 'of', 'guatemala', 'to', 'extreme', 'southeastern', 'october', 'the', 'disturbance', 'brought', 'heavy', 'thunderstorms', 'to', 'several', 'of', 'south', 'america', 'windward', 'islands', 'and', 'the', 'caribbean', 'coast', 'more', 'than', 'in', 'mm', 'of', 'rain', 'fell', 'in', 'trinidad', 'and', 'tobago', 'in', 'less', 'than', 'a', 'causing', 'significant', 'flash', 'flooding', 'that', 'flooding', 'resulted', 'in', 'one', 'fatality', 'after', 'a', 'woman', 'was', 'swept', 'away', 'while', 'trying', 'to', 'cross', 'a', 'river', 'and', 'rain', 'from', 'the', 'storm', 'caused', 'widespread', 'flooding', 'and', 'landslides', 'in', 'las', 'tejerías', 'in', 'venezuela', 'at', 'least', 'people', 'died', 'and', 'went', 'missing', 'when', 'mud', 'and', 'debris', 'inundated', 'the', 'town', 'people', 'were', 'deployed', 'to', 'search', 'for', 'center', 'of', 'julia', 'passed', 'just', 'south', 'of', 'san', 'andrés', 'island', 'as', 'it', 'was', 'reaching', 'hurricane', 'strength', 'east', 'of', 'nicaragua', 'at', 'least', 'homes', 'were', 'destroyed', 'by', 'julia', 'and', 'homes', 'and', 'a', 'health', 'center', 'were', 'damaged', 'there', 'have', 'been', 'no', 'reports', 'of', 'fatalities', 'honduras', 'the', 'government', 'of', 'honduras', 'opened', 'more', 'than', 'shelters', 'nationwide', 'with', 'people', 'utilizing', 'them', 'by', 'october', 'a', 'red', 'alert', 'the', 'highest', 'level', 'of', 'warning', 'was', 'issued', 'for', 'of', 'honduras', 'departments', 'many', 'homes', 'were', 'flooded', 'along', 'the', 'chamelecón', 'river', 'which', 'continued', 'to', 'rise', 'as', 'of', 'october', 'heavy', 'rains', 'brought', 'water', 'levels', 'at', 'the', 'la', 'concepcion', 'dam', 'and', 'jose', 'cecilio', 'del', 'valle', 'dam', 'above', 'their', 'maximum', 'capacity', 'the', 'ulúa', 'river', 'rose', 'to', 'ft', 'm', 'near', 'santiago', 'exceeding', 'the', 'red', 'alert', 'stage', 'for', 'flooding', 'the', 'most', 'significant', 'effects', 'were', 'felt', 'in', 'yoro', 'department', 'throughout', 'honduras', 'julia', 'killed', 'four', 'people', 'and', 'left', 'two', 'others', 'missing', 'as', 'of', 'october', 'a', 'total', 'of', 'people', 'were', 'affected', 'of', 'whom', 'required', 'evacuation', 'a', 'total', 'of', 'homes', 'were', 'destroyed', 'and', 'a', 'further', 'suffered', 'varying', 'degrees', 'of', 'damage', 'guatemala', 'a', 'total', 'of', 'people', 'were', 'affected', 'throughout', 'guatemala', 'of', 'whom', 'required', 'evacuation', 'at', 'least', 'people', 'died', 'throughout', 'guatemala', 'nine', 'in', 'huehuetenango', 'department', 'and', 'five', 'in', 'alta', 'verapaz', 'department', 'nicaragua', 'the', 'hurricane', 'left', 'at', 'least', 'million', 'people', 'without', 'power', 'and', 'forced', 'the', 'evacuation', 'of', 'families', 'panama', 'two', 'people', 'died', 'in', 'panama', 'near', 'the', 'border', 'with', 'costa', 'rica', 'and', 'around', 'people', 'required', 'evacuation', 'the', 'ministry', 'of', 'education', 'of', 'panama', 'suspended', 'classes', 'on', 'october', 'a', 'total', 'of', 'two', 'landslides', 'were', 'reported', 'due', 'to', 'heavy', 'rains', 'nearly', 'people', 'were', 'affected', 'el', 'salvador', 'on', 'october', 'the', 'government', 'of', 'el', 'salvador', 'declared', 'an', 'orange', 'alert', 'for', 'the', 'entire', 'territory', 'due', 'to', 'the', 'approaching', 'storm', 'fishing', 'and', 'recreational', 'activities', 'in', 'rivers', 'beaches', 'and', 'lakes', 'were', 'suspended', 'until', 'october', 'shelters', 'for', 'people', 'were', 'prepared', 'a', 'state', 'of', 'national', 'emergency', 'was', 'declared', 'due', 'to', 'the', 'hurricane', 'the', 'government', 'ended', 'up', 'declaring', 'a', 'red', 'alert', 'for', 'civil', 'protection', 'due', 'to', 'the', 'winds', 'throughout', 'the', 'national', 'territory', 'tree', 'falls', 'were', 'reported', 'in', 'different', 'municipalities', 'impeding', 'traffic', 'and', 'damaging', 'cars', 'falling', 'branches', 'blocked', 'several', 'major', 'highways', 'roads', 'were', 'also', 'damaged', 'by', 'landslides', 'five', 'soldiers', 'died', 'and', 'another', 'was', 'injured', 'in', 'comasagua', 'when', 'the', 'home', 'they', 'were', 'seeking', 'refuge', 'in', 'collapsed', 'in', 'all', 'julia', 'was', 'responsible', 'for', 'ten', 'deaths', 'in', 'el', 'of', 'crossover', 'hurricaneslist', 'of', 'category', 'atlantic', 'hurricanestimeline', 'of', 'the', 'atlantic', 'hurricane', 'seasontimeline', 'of', 'the', 'pacific', 'hurricane', 'seasontropical', 'cyclones', 'in', 'of', 'storm', 'bret', 'another', 'deadly', 'system', 'that', 'took', 'a', 'similar', 'track', 'over', 'the', 'northern', 'coast', 'of', 'south', 'americahurricane', 'otto', 'another', 'atlantic', 'hurricane', 'which', 'traversed', 'a', 'similar', 'path', 'eventually', 'becoming', 'an', 'eastern', 'pacific', 'tropical', 'stormhurricane', 'nana', 'another', 'cyclone', 'that', 'took', 'a', 'similar', 'track', 'that', 'also', 'affected', 'central', 'americahurricane', 'iota', 'an', 'intense', 'hurricane', 'that', 'had', 'a', 'similar', 'track', 'affecting', 'central', 'americahurricane', 'bonnie', 'had', 'a', 'similar', 'track', 'and', 'crossed', 'over', 'into', 'the', 'eastern', 'pacific', 'basin', 'as', 'a', 'tropical', 'storm', 'three', 'months', 'before', 'juliathe', 'national', 'hurricane', 'center', 'advisory', 'archive', 'on', 'hurricane', 'julia', 'atlantic', 'basin', 'the', 'national', 'hurricane', 'center', 'advisory', 'archive', 'on', 'tropical', 'storm', 'julia', 'eastern', 'pacific', 'basin']\n",
            "Filterd Words: ['hurricane', 'julia', 'deadly', 'tropical', 'cyclone', 'caused', 'significant', 'impacts', 'central', 'america', 'category', 'hurricane', 'october', 'tenth', 'named', 'storm', 'fifth', 'hurricane', 'atlantic', 'hurricane', 'season', 'julia', 'originated', 'tropical', 'wave', 'tropical', 'north', 'atlantic', 'ocean', 'became', 'named', 'storm', 'october', 'took', 'southerly', 'course', 'caribbean', 'passed', 'coast', 'venezuela', 'time', 'became', 'tropical', 'cyclone', 'one', 'storm', 'record', 'tropical', 'storm', 'bret', 'tracked', 'south', 'south', 'october', 'became', 'hurricane', 'proceeded', 'make', 'landfall', 'nicaragua', 'emerged', 'pacific', 'ocean', 'tropical', 'storm', 'october', 'becoming', 'eighteenth', 'tropical', 'storm', 'pacific', 'hurricane', 'season', 'second', 'storm', 'season', 'survive', 'crossover', 'basin', 'bonnie', 'july', 'storm', 'briefly', 'moved', 'along', 'coast', 'el', 'salvador', 'moving', 'inland', 'degenerating', 'remnant', 'low', 'guatemala', 'october', 'julia', 'brought', 'heavy', 'rains', 'caused', 'flash', 'floods', 'deadly', 'mudslides', 'northern', 'venezuela', 'much', 'central', 'october', 'national', 'hurricane', 'center', 'nhc', 'began', 'monitoring', 'tropical', 'wave', 'central', 'tropical', 'atlantic', 'broad', 'area', 'low', 'pressure', 'formed', 'october', 'approached', 'southern', 'windward', 'islands', 'due', 'threat', 'developing', 'system', 'posed', 'land', 'areas', 'southern', 'caribbean', 'nhc', 'initiated', 'advisories', 'potential', 'tropical', 'cyclone', 'thirteen', 'october', 'later', 'day', 'satellite', 'imagery', 'radar', 'data', 'indicated', 'disturbance', 'attained', 'sufficient', 'circulation', 'organized', 'convection', 'hurricane', 'hunter', 'survey', 'data', 'showed', 'presence', 'mph', 'winds', 'north', 'center', 'designated', 'tropical', 'depression', 'strong', 'burst', 'deep', 'convection', 'developed', 'near', 'center', 'depression', 'moved', 'across', 'guajira', 'peninsula', 'early', 'morning', 'october', 'soon', 'afterwards', 'strengthened', 'tropical', 'storm', 'julia', 'afterward', 'morning', 'burst', 'deep', 'convection', 'stripped', 'away', 'northwesterly', 'shear', 'storm', 'center', 'exposed', 'next', 'several', 'increase', 'persistent', 'deep', 'convection', 'center', 'system', 'began', 'gain', 'strength', 'julia', 'became', 'hurricane', 'utc', 'october', 'reached', 'peak', 'intensity', 'utc', 'october', 'maximum', 'sustained', 'winds', 'mph', 'minimum', 'central', 'pressure', 'mbar', 'inhg', 'utc', 'storm', 'made', 'landfall', 'near', 'pearl', 'lagoon', 'nicaragua', 'intensity', 'system', 'gradually', 'weakened', 'tropical', 'storm', 'moved', 'westward', 'across', 'nicaragua', 'maintaining', 'circulation', 'deep', 'convection', 'persisting', 'near', 'center', 'late', 'october', 'julia', 'left', 'atlantic', 'basin', 'designated', 'east', 'pacific', 'tropical', 'storm', 'three', 'hours', 'later', 'center', 'emerged', 'offshore', 'pacific', 'continued', 'weaken', 'maintained', 'band', 'deep', 'convection', 'southern', 'eastern', 'portions', 'circulation', 'utc', 'october', 'center', 'storm', 'crossed', 'coast', 'el', 'salvador', 'mi', 'km', 'west', 'san', 'salvador', 'weakened', 'tropical', 'depression', 'later', 'day', 'julia', 'degenerated', 'remnant', 'low', 'extended', 'offshore', 'guatemala', 'extreme', 'southeastern', 'october', 'disturbance', 'brought', 'heavy', 'thunderstorms', 'several', 'south', 'america', 'windward', 'islands', 'caribbean', 'coast', 'mm', 'rain', 'fell', 'trinidad', 'tobago', 'less', 'causing', 'significant', 'flash', 'flooding', 'flooding', 'resulted', 'one', 'fatality', 'woman', 'swept', 'away', 'trying', 'cross', 'river', 'rain', 'storm', 'caused', 'widespread', 'flooding', 'landslides', 'las', 'tejerías', 'venezuela', 'least', 'people', 'died', 'went', 'missing', 'mud', 'debris', 'inundated', 'town', 'people', 'deployed', 'search', 'center', 'julia', 'passed', 'south', 'san', 'andrés', 'island', 'reaching', 'hurricane', 'strength', 'east', 'nicaragua', 'least', 'homes', 'destroyed', 'julia', 'homes', 'health', 'center', 'damaged', 'reports', 'fatalities', 'honduras', 'government', 'honduras', 'opened', 'shelters', 'nationwide', 'people', 'utilizing', 'october', 'red', 'alert', 'highest', 'level', 'warning', 'issued', 'honduras', 'departments', 'many', 'homes', 'flooded', 'along', 'chamelecón', 'river', 'continued', 'rise', 'october', 'heavy', 'rains', 'brought', 'water', 'levels', 'la', 'concepcion', 'dam', 'jose', 'cecilio', 'del', 'valle', 'dam', 'maximum', 'capacity', 'ulúa', 'river', 'rose', 'ft', 'near', 'santiago', 'exceeding', 'red', 'alert', 'stage', 'flooding', 'significant', 'effects', 'felt', 'yoro', 'department', 'throughout', 'honduras', 'julia', 'killed', 'four', 'people', 'left', 'two', 'others', 'missing', 'october', 'total', 'people', 'affected', 'required', 'evacuation', 'total', 'homes', 'destroyed', 'suffered', 'varying', 'degrees', 'damage', 'guatemala', 'total', 'people', 'affected', 'throughout', 'guatemala', 'required', 'evacuation', 'least', 'people', 'died', 'throughout', 'guatemala', 'nine', 'huehuetenango', 'department', 'five', 'alta', 'verapaz', 'department', 'nicaragua', 'hurricane', 'left', 'least', 'million', 'people', 'without', 'power', 'forced', 'evacuation', 'families', 'panama', 'two', 'people', 'died', 'panama', 'near', 'border', 'costa', 'rica', 'around', 'people', 'required', 'evacuation', 'ministry', 'education', 'panama', 'suspended', 'classes', 'october', 'total', 'two', 'landslides', 'reported', 'due', 'heavy', 'rains', 'nearly', 'people', 'affected', 'el', 'salvador', 'october', 'government', 'el', 'salvador', 'declared', 'orange', 'alert', 'entire', 'territory', 'due', 'approaching', 'storm', 'fishing', 'recreational', 'activities', 'rivers', 'beaches', 'lakes', 'suspended', 'october', 'shelters', 'people', 'prepared', 'state', 'national', 'emergency', 'declared', 'due', 'hurricane', 'government', 'ended', 'declaring', 'red', 'alert', 'civil', 'protection', 'due', 'winds', 'throughout', 'national', 'territory', 'tree', 'falls', 'reported', 'different', 'municipalities', 'impeding', 'traffic', 'damaging', 'cars', 'falling', 'branches', 'blocked', 'several', 'major', 'highways', 'roads', 'also', 'damaged', 'landslides', 'five', 'soldiers', 'died', 'another', 'injured', 'comasagua', 'home', 'seeking', 'refuge', 'collapsed', 'julia', 'responsible', 'ten', 'deaths', 'el', 'crossover', 'hurricaneslist', 'category', 'atlantic', 'hurricanestimeline', 'atlantic', 'hurricane', 'seasontimeline', 'pacific', 'hurricane', 'seasontropical', 'cyclones', 'storm', 'bret', 'another', 'deadly', 'system', 'took', 'similar', 'track', 'northern', 'coast', 'south', 'americahurricane', 'otto', 'another', 'atlantic', 'hurricane', 'traversed', 'similar', 'path', 'eventually', 'becoming', 'eastern', 'pacific', 'tropical', 'stormhurricane', 'nana', 'another', 'cyclone', 'took', 'similar', 'track', 'also', 'affected', 'central', 'americahurricane', 'iota', 'intense', 'hurricane', 'similar', 'track', 'affecting', 'central', 'americahurricane', 'bonnie', 'similar', 'track', 'crossed', 'eastern', 'pacific', 'basin', 'tropical', 'storm', 'three', 'months', 'juliathe', 'national', 'hurricane', 'center', 'advisory', 'archive', 'hurricane', 'julia', 'atlantic', 'basin', 'national', 'hurricane', 'center', 'advisory', 'archive', 'tropical', 'storm', 'julia', 'eastern', 'pacific', 'basin']\n"
          ]
        }
      ]
    },
    {
      "cell_type": "markdown",
      "source": [
        "Haremos Stemming al texto, un proceso de normalización lingüística que reduce las palabras a su raíz o elimina los afijos derivativos. Por ejemplo, connection, connected, connecting se reducen a la palabra común \"connect\"."
      ],
      "metadata": {
        "id": "JDO3Idfz-tXq"
      }
    },
    {
      "cell_type": "code",
      "source": [
        "ps = PorterStemmer()\n",
        "\n",
        "stemmed_words=[]\n",
        "for w in filtered_word:\n",
        "    stemmed_words.append(ps.stem(w))\n",
        "\n",
        "print(\"Filtered Words:\",filtered_word)\n",
        "print(\"Stemmed Words:\",stemmed_words)"
      ],
      "metadata": {
        "colab": {
          "base_uri": "https://localhost:8080/"
        },
        "id": "R4JSWLuv-ugb",
        "outputId": "b82d7905-06d8-467d-ab35-63cb4d1fe801"
      },
      "execution_count": null,
      "outputs": [
        {
          "output_type": "stream",
          "name": "stdout",
          "text": [
            "Filtered Words: ['hurricane', 'julia', 'deadly', 'tropical', 'cyclone', 'caused', 'significant', 'impacts', 'central', 'america', 'category', 'hurricane', 'october', 'tenth', 'named', 'storm', 'fifth', 'hurricane', 'atlantic', 'hurricane', 'season', 'julia', 'originated', 'tropical', 'wave', 'tropical', 'north', 'atlantic', 'ocean', 'became', 'named', 'storm', 'october', 'took', 'southerly', 'course', 'caribbean', 'passed', 'coast', 'venezuela', 'time', 'became', 'tropical', 'cyclone', 'one', 'storm', 'record', 'tropical', 'storm', 'bret', 'tracked', 'south', 'south', 'october', 'became', 'hurricane', 'proceeded', 'make', 'landfall', 'nicaragua', 'emerged', 'pacific', 'ocean', 'tropical', 'storm', 'october', 'becoming', 'eighteenth', 'tropical', 'storm', 'pacific', 'hurricane', 'season', 'second', 'storm', 'season', 'survive', 'crossover', 'basin', 'bonnie', 'july', 'storm', 'briefly', 'moved', 'along', 'coast', 'el', 'salvador', 'moving', 'inland', 'degenerating', 'remnant', 'low', 'guatemala', 'october', 'julia', 'brought', 'heavy', 'rains', 'caused', 'flash', 'floods', 'deadly', 'mudslides', 'northern', 'venezuela', 'much', 'central', 'october', 'national', 'hurricane', 'center', 'nhc', 'began', 'monitoring', 'tropical', 'wave', 'central', 'tropical', 'atlantic', 'broad', 'area', 'low', 'pressure', 'formed', 'october', 'approached', 'southern', 'windward', 'islands', 'due', 'threat', 'developing', 'system', 'posed', 'land', 'areas', 'southern', 'caribbean', 'nhc', 'initiated', 'advisories', 'potential', 'tropical', 'cyclone', 'thirteen', 'october', 'later', 'day', 'satellite', 'imagery', 'radar', 'data', 'indicated', 'disturbance', 'attained', 'sufficient', 'circulation', 'organized', 'convection', 'hurricane', 'hunter', 'survey', 'data', 'showed', 'presence', 'mph', 'winds', 'north', 'center', 'designated', 'tropical', 'depression', 'strong', 'burst', 'deep', 'convection', 'developed', 'near', 'center', 'depression', 'moved', 'across', 'guajira', 'peninsula', 'early', 'morning', 'october', 'soon', 'afterwards', 'strengthened', 'tropical', 'storm', 'julia', 'afterward', 'morning', 'burst', 'deep', 'convection', 'stripped', 'away', 'northwesterly', 'shear', 'storm', 'center', 'exposed', 'next', 'several', 'increase', 'persistent', 'deep', 'convection', 'center', 'system', 'began', 'gain', 'strength', 'julia', 'became', 'hurricane', 'utc', 'october', 'reached', 'peak', 'intensity', 'utc', 'october', 'maximum', 'sustained', 'winds', 'mph', 'minimum', 'central', 'pressure', 'mbar', 'inhg', 'utc', 'storm', 'made', 'landfall', 'near', 'pearl', 'lagoon', 'nicaragua', 'intensity', 'system', 'gradually', 'weakened', 'tropical', 'storm', 'moved', 'westward', 'across', 'nicaragua', 'maintaining', 'circulation', 'deep', 'convection', 'persisting', 'near', 'center', 'late', 'october', 'julia', 'left', 'atlantic', 'basin', 'designated', 'east', 'pacific', 'tropical', 'storm', 'three', 'hours', 'later', 'center', 'emerged', 'offshore', 'pacific', 'continued', 'weaken', 'maintained', 'band', 'deep', 'convection', 'southern', 'eastern', 'portions', 'circulation', 'utc', 'october', 'center', 'storm', 'crossed', 'coast', 'el', 'salvador', 'mi', 'km', 'west', 'san', 'salvador', 'weakened', 'tropical', 'depression', 'later', 'day', 'julia', 'degenerated', 'remnant', 'low', 'extended', 'offshore', 'guatemala', 'extreme', 'southeastern', 'october', 'disturbance', 'brought', 'heavy', 'thunderstorms', 'several', 'south', 'america', 'windward', 'islands', 'caribbean', 'coast', 'mm', 'rain', 'fell', 'trinidad', 'tobago', 'less', 'causing', 'significant', 'flash', 'flooding', 'flooding', 'resulted', 'one', 'fatality', 'woman', 'swept', 'away', 'trying', 'cross', 'river', 'rain', 'storm', 'caused', 'widespread', 'flooding', 'landslides', 'las', 'tejerías', 'venezuela', 'least', 'people', 'died', 'went', 'missing', 'mud', 'debris', 'inundated', 'town', 'people', 'deployed', 'search', 'center', 'julia', 'passed', 'south', 'san', 'andrés', 'island', 'reaching', 'hurricane', 'strength', 'east', 'nicaragua', 'least', 'homes', 'destroyed', 'julia', 'homes', 'health', 'center', 'damaged', 'reports', 'fatalities', 'honduras', 'government', 'honduras', 'opened', 'shelters', 'nationwide', 'people', 'utilizing', 'october', 'red', 'alert', 'highest', 'level', 'warning', 'issued', 'honduras', 'departments', 'many', 'homes', 'flooded', 'along', 'chamelecón', 'river', 'continued', 'rise', 'october', 'heavy', 'rains', 'brought', 'water', 'levels', 'la', 'concepcion', 'dam', 'jose', 'cecilio', 'del', 'valle', 'dam', 'maximum', 'capacity', 'ulúa', 'river', 'rose', 'ft', 'near', 'santiago', 'exceeding', 'red', 'alert', 'stage', 'flooding', 'significant', 'effects', 'felt', 'yoro', 'department', 'throughout', 'honduras', 'julia', 'killed', 'four', 'people', 'left', 'two', 'others', 'missing', 'october', 'total', 'people', 'affected', 'required', 'evacuation', 'total', 'homes', 'destroyed', 'suffered', 'varying', 'degrees', 'damage', 'guatemala', 'total', 'people', 'affected', 'throughout', 'guatemala', 'required', 'evacuation', 'least', 'people', 'died', 'throughout', 'guatemala', 'nine', 'huehuetenango', 'department', 'five', 'alta', 'verapaz', 'department', 'nicaragua', 'hurricane', 'left', 'least', 'million', 'people', 'without', 'power', 'forced', 'evacuation', 'families', 'panama', 'two', 'people', 'died', 'panama', 'near', 'border', 'costa', 'rica', 'around', 'people', 'required', 'evacuation', 'ministry', 'education', 'panama', 'suspended', 'classes', 'october', 'total', 'two', 'landslides', 'reported', 'due', 'heavy', 'rains', 'nearly', 'people', 'affected', 'el', 'salvador', 'october', 'government', 'el', 'salvador', 'declared', 'orange', 'alert', 'entire', 'territory', 'due', 'approaching', 'storm', 'fishing', 'recreational', 'activities', 'rivers', 'beaches', 'lakes', 'suspended', 'october', 'shelters', 'people', 'prepared', 'state', 'national', 'emergency', 'declared', 'due', 'hurricane', 'government', 'ended', 'declaring', 'red', 'alert', 'civil', 'protection', 'due', 'winds', 'throughout', 'national', 'territory', 'tree', 'falls', 'reported', 'different', 'municipalities', 'impeding', 'traffic', 'damaging', 'cars', 'falling', 'branches', 'blocked', 'several', 'major', 'highways', 'roads', 'also', 'damaged', 'landslides', 'five', 'soldiers', 'died', 'another', 'injured', 'comasagua', 'home', 'seeking', 'refuge', 'collapsed', 'julia', 'responsible', 'ten', 'deaths', 'el', 'crossover', 'hurricaneslist', 'category', 'atlantic', 'hurricanestimeline', 'atlantic', 'hurricane', 'seasontimeline', 'pacific', 'hurricane', 'seasontropical', 'cyclones', 'storm', 'bret', 'another', 'deadly', 'system', 'took', 'similar', 'track', 'northern', 'coast', 'south', 'americahurricane', 'otto', 'another', 'atlantic', 'hurricane', 'traversed', 'similar', 'path', 'eventually', 'becoming', 'eastern', 'pacific', 'tropical', 'stormhurricane', 'nana', 'another', 'cyclone', 'took', 'similar', 'track', 'also', 'affected', 'central', 'americahurricane', 'iota', 'intense', 'hurricane', 'similar', 'track', 'affecting', 'central', 'americahurricane', 'bonnie', 'similar', 'track', 'crossed', 'eastern', 'pacific', 'basin', 'tropical', 'storm', 'three', 'months', 'juliathe', 'national', 'hurricane', 'center', 'advisory', 'archive', 'hurricane', 'julia', 'atlantic', 'basin', 'national', 'hurricane', 'center', 'advisory', 'archive', 'tropical', 'storm', 'julia', 'eastern', 'pacific', 'basin']\n",
            "Stemmed Words: ['hurrican', 'julia', 'deadli', 'tropic', 'cyclon', 'caus', 'signific', 'impact', 'central', 'america', 'categori', 'hurrican', 'octob', 'tenth', 'name', 'storm', 'fifth', 'hurrican', 'atlant', 'hurrican', 'season', 'julia', 'origin', 'tropic', 'wave', 'tropic', 'north', 'atlant', 'ocean', 'becam', 'name', 'storm', 'octob', 'took', 'southerli', 'cours', 'caribbean', 'pass', 'coast', 'venezuela', 'time', 'becam', 'tropic', 'cyclon', 'one', 'storm', 'record', 'tropic', 'storm', 'bret', 'track', 'south', 'south', 'octob', 'becam', 'hurrican', 'proceed', 'make', 'landfal', 'nicaragua', 'emerg', 'pacif', 'ocean', 'tropic', 'storm', 'octob', 'becom', 'eighteenth', 'tropic', 'storm', 'pacif', 'hurrican', 'season', 'second', 'storm', 'season', 'surviv', 'crossov', 'basin', 'bonni', 'juli', 'storm', 'briefli', 'move', 'along', 'coast', 'el', 'salvador', 'move', 'inland', 'degener', 'remnant', 'low', 'guatemala', 'octob', 'julia', 'brought', 'heavi', 'rain', 'caus', 'flash', 'flood', 'deadli', 'mudslid', 'northern', 'venezuela', 'much', 'central', 'octob', 'nation', 'hurrican', 'center', 'nhc', 'began', 'monitor', 'tropic', 'wave', 'central', 'tropic', 'atlant', 'broad', 'area', 'low', 'pressur', 'form', 'octob', 'approach', 'southern', 'windward', 'island', 'due', 'threat', 'develop', 'system', 'pose', 'land', 'area', 'southern', 'caribbean', 'nhc', 'initi', 'advisori', 'potenti', 'tropic', 'cyclon', 'thirteen', 'octob', 'later', 'day', 'satellit', 'imageri', 'radar', 'data', 'indic', 'disturb', 'attain', 'suffici', 'circul', 'organ', 'convect', 'hurrican', 'hunter', 'survey', 'data', 'show', 'presenc', 'mph', 'wind', 'north', 'center', 'design', 'tropic', 'depress', 'strong', 'burst', 'deep', 'convect', 'develop', 'near', 'center', 'depress', 'move', 'across', 'guajira', 'peninsula', 'earli', 'morn', 'octob', 'soon', 'afterward', 'strengthen', 'tropic', 'storm', 'julia', 'afterward', 'morn', 'burst', 'deep', 'convect', 'strip', 'away', 'northwesterli', 'shear', 'storm', 'center', 'expos', 'next', 'sever', 'increas', 'persist', 'deep', 'convect', 'center', 'system', 'began', 'gain', 'strength', 'julia', 'becam', 'hurrican', 'utc', 'octob', 'reach', 'peak', 'intens', 'utc', 'octob', 'maximum', 'sustain', 'wind', 'mph', 'minimum', 'central', 'pressur', 'mbar', 'inhg', 'utc', 'storm', 'made', 'landfal', 'near', 'pearl', 'lagoon', 'nicaragua', 'intens', 'system', 'gradual', 'weaken', 'tropic', 'storm', 'move', 'westward', 'across', 'nicaragua', 'maintain', 'circul', 'deep', 'convect', 'persist', 'near', 'center', 'late', 'octob', 'julia', 'left', 'atlant', 'basin', 'design', 'east', 'pacif', 'tropic', 'storm', 'three', 'hour', 'later', 'center', 'emerg', 'offshor', 'pacif', 'continu', 'weaken', 'maintain', 'band', 'deep', 'convect', 'southern', 'eastern', 'portion', 'circul', 'utc', 'octob', 'center', 'storm', 'cross', 'coast', 'el', 'salvador', 'mi', 'km', 'west', 'san', 'salvador', 'weaken', 'tropic', 'depress', 'later', 'day', 'julia', 'degener', 'remnant', 'low', 'extend', 'offshor', 'guatemala', 'extrem', 'southeastern', 'octob', 'disturb', 'brought', 'heavi', 'thunderstorm', 'sever', 'south', 'america', 'windward', 'island', 'caribbean', 'coast', 'mm', 'rain', 'fell', 'trinidad', 'tobago', 'less', 'caus', 'signific', 'flash', 'flood', 'flood', 'result', 'one', 'fatal', 'woman', 'swept', 'away', 'tri', 'cross', 'river', 'rain', 'storm', 'caus', 'widespread', 'flood', 'landslid', 'la', 'tejería', 'venezuela', 'least', 'peopl', 'die', 'went', 'miss', 'mud', 'debri', 'inund', 'town', 'peopl', 'deploy', 'search', 'center', 'julia', 'pass', 'south', 'san', 'andré', 'island', 'reach', 'hurrican', 'strength', 'east', 'nicaragua', 'least', 'home', 'destroy', 'julia', 'home', 'health', 'center', 'damag', 'report', 'fatal', 'hondura', 'govern', 'hondura', 'open', 'shelter', 'nationwid', 'peopl', 'util', 'octob', 'red', 'alert', 'highest', 'level', 'warn', 'issu', 'hondura', 'depart', 'mani', 'home', 'flood', 'along', 'chamelecón', 'river', 'continu', 'rise', 'octob', 'heavi', 'rain', 'brought', 'water', 'level', 'la', 'concepcion', 'dam', 'jose', 'cecilio', 'del', 'vall', 'dam', 'maximum', 'capac', 'ulúa', 'river', 'rose', 'ft', 'near', 'santiago', 'exceed', 'red', 'alert', 'stage', 'flood', 'signific', 'effect', 'felt', 'yoro', 'depart', 'throughout', 'hondura', 'julia', 'kill', 'four', 'peopl', 'left', 'two', 'other', 'miss', 'octob', 'total', 'peopl', 'affect', 'requir', 'evacu', 'total', 'home', 'destroy', 'suffer', 'vari', 'degre', 'damag', 'guatemala', 'total', 'peopl', 'affect', 'throughout', 'guatemala', 'requir', 'evacu', 'least', 'peopl', 'die', 'throughout', 'guatemala', 'nine', 'huehuetenango', 'depart', 'five', 'alta', 'verapaz', 'depart', 'nicaragua', 'hurrican', 'left', 'least', 'million', 'peopl', 'without', 'power', 'forc', 'evacu', 'famili', 'panama', 'two', 'peopl', 'die', 'panama', 'near', 'border', 'costa', 'rica', 'around', 'peopl', 'requir', 'evacu', 'ministri', 'educ', 'panama', 'suspend', 'class', 'octob', 'total', 'two', 'landslid', 'report', 'due', 'heavi', 'rain', 'nearli', 'peopl', 'affect', 'el', 'salvador', 'octob', 'govern', 'el', 'salvador', 'declar', 'orang', 'alert', 'entir', 'territori', 'due', 'approach', 'storm', 'fish', 'recreat', 'activ', 'river', 'beach', 'lake', 'suspend', 'octob', 'shelter', 'peopl', 'prepar', 'state', 'nation', 'emerg', 'declar', 'due', 'hurrican', 'govern', 'end', 'declar', 'red', 'alert', 'civil', 'protect', 'due', 'wind', 'throughout', 'nation', 'territori', 'tree', 'fall', 'report', 'differ', 'municip', 'imped', 'traffic', 'damag', 'car', 'fall', 'branch', 'block', 'sever', 'major', 'highway', 'road', 'also', 'damag', 'landslid', 'five', 'soldier', 'die', 'anoth', 'injur', 'comasagua', 'home', 'seek', 'refug', 'collaps', 'julia', 'respons', 'ten', 'death', 'el', 'crossov', 'hurricaneslist', 'categori', 'atlant', 'hurricanestimelin', 'atlant', 'hurrican', 'seasontimelin', 'pacif', 'hurrican', 'seasontrop', 'cyclon', 'storm', 'bret', 'anoth', 'deadli', 'system', 'took', 'similar', 'track', 'northern', 'coast', 'south', 'americahurrican', 'otto', 'anoth', 'atlant', 'hurrican', 'travers', 'similar', 'path', 'eventu', 'becom', 'eastern', 'pacif', 'tropic', 'stormhurrican', 'nana', 'anoth', 'cyclon', 'took', 'similar', 'track', 'also', 'affect', 'central', 'americahurrican', 'iota', 'intens', 'hurrican', 'similar', 'track', 'affect', 'central', 'americahurrican', 'bonni', 'similar', 'track', 'cross', 'eastern', 'pacif', 'basin', 'tropic', 'storm', 'three', 'month', 'juliath', 'nation', 'hurrican', 'center', 'advisori', 'archiv', 'hurrican', 'julia', 'atlant', 'basin', 'nation', 'hurrican', 'center', 'advisori', 'archiv', 'tropic', 'storm', 'julia', 'eastern', 'pacif', 'basin']\n"
          ]
        }
      ]
    },
    {
      "cell_type": "markdown",
      "source": [
        "Tras aplicar stopwords y stemming nos encontramos con que tenemos 695 palabras, poco mas de la mitad de las que tenia el texto incial, 1119. De estas 695, 320 son únicas. "
      ],
      "metadata": {
        "id": "qXY5BUAuAg02"
      }
    },
    {
      "cell_type": "code",
      "source": [
        "print(FreqDist(tokenized_word))\n",
        "print(FreqDist(stemmed_words))"
      ],
      "metadata": {
        "colab": {
          "base_uri": "https://localhost:8080/"
        },
        "id": "hMEFGEE0Ahcl",
        "outputId": "e28d5a39-7577-4df9-f907-7b0b865c1344"
      },
      "execution_count": null,
      "outputs": [
        {
          "output_type": "stream",
          "name": "stdout",
          "text": [
            "<FreqDist with 407 samples and 1119 outcomes>\n",
            "<FreqDist with 320 samples and 695 outcomes>\n"
          ]
        }
      ]
    },
    {
      "cell_type": "markdown",
      "source": [
        "Veamos la nueva distribución gráficamente en comparación con texto original.\n",
        "\n",
        "Palabras importantes como storm y hurrican se han ido al top 2 y 3 en sustitución de otras como the of and que no aportan valor al analisis."
      ],
      "metadata": {
        "id": "Njnx1KJNjZ7K"
      }
    },
    {
      "cell_type": "code",
      "source": [
        "word_df = pd.DataFrame(fdist.most_common(25))\n",
        "word_df.columns = ['Common_words','count]\n",
        "fig = px.treemap(word_df, path=['Common_words'], values='count',title='Tree of Most Common Words TEXTO ORIGINAL',\n",
        "                 width=1200, height=400)\n",
        "fig.show()\n",
        "\n",
        "\n",
        "fdist_stopwords_stemming = FreqDist(stemmed_words)\n",
        "word_stopwords_stemming_df = pd.DataFrame(fdist_stopwords_stemming.most_common(25))\n",
        "word_stopwords_stemming_df.columns = ['Common_words','count']\n",
        "\n",
        "fig = px.treemap(word_stopwords_stemming_df, path=['Common_words'], values='count',title='Tree of Most Common Words después de quitar stopwords y realizar stemming', \n",
        "                 width=1200, height=400)\n",
        "fig.show()"
      ],
      "metadata": {
        "colab": {
          "base_uri": "https://localhost:8080/",
          "height": 817
        },
        "id": "UdRMxcOYEt1s",
        "outputId": "3eb3d2ef-5bf0-4995-adaf-f10a77cc27ef"
      },
      "execution_count": null,
      "outputs": [
        {
          "output_type": "display_data",
          "data": {
            "text/html": [
              "<html>\n",
              "<head><meta charset=\"utf-8\" /></head>\n",
              "<body>\n",
              "    <div>            <script src=\"https://cdnjs.cloudflare.com/ajax/libs/mathjax/2.7.5/MathJax.js?config=TeX-AMS-MML_SVG\"></script><script type=\"text/javascript\">if (window.MathJax) {MathJax.Hub.Config({SVG: {font: \"STIX-Web\"}});}</script>                <script type=\"text/javascript\">window.PlotlyConfig = {MathJaxConfig: 'local'};</script>\n",
              "        <script src=\"https://cdn.plot.ly/plotly-2.8.3.min.js\"></script>                <div id=\"d757d74e-2fb3-4a69-a1de-afc386155d87\" class=\"plotly-graph-div\" style=\"height:400px; width:1200px;\"></div>            <script type=\"text/javascript\">                                    window.PLOTLYENV=window.PLOTLYENV || {};                                    if (document.getElementById(\"d757d74e-2fb3-4a69-a1de-afc386155d87\")) {                    Plotly.newPlot(                        \"d757d74e-2fb3-4a69-a1de-afc386155d87\",                        [{\"branchvalues\":\"total\",\"domain\":{\"x\":[0.0,1.0],\"y\":[0.0,1.0]},\"hovertemplate\":\"labels=%{label}<br>count=%{value}<br>parent=%{parent}<br>id=%{id}<extra></extra>\",\"ids\":[\"a\",\"and\",\"as\",\"at\",\"atlantic\",\"center\",\"central\",\"for\",\"hurricane\",\"in\",\"it\",\"julia\",\"october\",\"of\",\"on\",\"over\",\"pacific\",\"people\",\"storm\",\"that\",\"the\",\"to\",\"tropical\",\"was\",\"were\"],\"labels\":[\"a\",\"and\",\"as\",\"at\",\"atlantic\",\"center\",\"central\",\"for\",\"hurricane\",\"in\",\"it\",\"julia\",\"october\",\"of\",\"on\",\"over\",\"pacific\",\"people\",\"storm\",\"that\",\"the\",\"to\",\"tropical\",\"was\",\"were\"],\"name\":\"\",\"parents\":[\"\",\"\",\"\",\"\",\"\",\"\",\"\",\"\",\"\",\"\",\"\",\"\",\"\",\"\",\"\",\"\",\"\",\"\",\"\",\"\",\"\",\"\",\"\",\"\",\"\"],\"values\":[38,40,12,11,8,12,6,8,19,27,13,13,20,50,15,7,8,12,19,11,72,18,18,12,15],\"type\":\"treemap\"}],                        {\"template\":{\"data\":{\"bar\":[{\"error_x\":{\"color\":\"#2a3f5f\"},\"error_y\":{\"color\":\"#2a3f5f\"},\"marker\":{\"line\":{\"color\":\"#E5ECF6\",\"width\":0.5},\"pattern\":{\"fillmode\":\"overlay\",\"size\":10,\"solidity\":0.2}},\"type\":\"bar\"}],\"barpolar\":[{\"marker\":{\"line\":{\"color\":\"#E5ECF6\",\"width\":0.5},\"pattern\":{\"fillmode\":\"overlay\",\"size\":10,\"solidity\":0.2}},\"type\":\"barpolar\"}],\"carpet\":[{\"aaxis\":{\"endlinecolor\":\"#2a3f5f\",\"gridcolor\":\"white\",\"linecolor\":\"white\",\"minorgridcolor\":\"white\",\"startlinecolor\":\"#2a3f5f\"},\"baxis\":{\"endlinecolor\":\"#2a3f5f\",\"gridcolor\":\"white\",\"linecolor\":\"white\",\"minorgridcolor\":\"white\",\"startlinecolor\":\"#2a3f5f\"},\"type\":\"carpet\"}],\"choropleth\":[{\"colorbar\":{\"outlinewidth\":0,\"ticks\":\"\"},\"type\":\"choropleth\"}],\"contour\":[{\"colorbar\":{\"outlinewidth\":0,\"ticks\":\"\"},\"colorscale\":[[0.0,\"#0d0887\"],[0.1111111111111111,\"#46039f\"],[0.2222222222222222,\"#7201a8\"],[0.3333333333333333,\"#9c179e\"],[0.4444444444444444,\"#bd3786\"],[0.5555555555555556,\"#d8576b\"],[0.6666666666666666,\"#ed7953\"],[0.7777777777777778,\"#fb9f3a\"],[0.8888888888888888,\"#fdca26\"],[1.0,\"#f0f921\"]],\"type\":\"contour\"}],\"contourcarpet\":[{\"colorbar\":{\"outlinewidth\":0,\"ticks\":\"\"},\"type\":\"contourcarpet\"}],\"heatmap\":[{\"colorbar\":{\"outlinewidth\":0,\"ticks\":\"\"},\"colorscale\":[[0.0,\"#0d0887\"],[0.1111111111111111,\"#46039f\"],[0.2222222222222222,\"#7201a8\"],[0.3333333333333333,\"#9c179e\"],[0.4444444444444444,\"#bd3786\"],[0.5555555555555556,\"#d8576b\"],[0.6666666666666666,\"#ed7953\"],[0.7777777777777778,\"#fb9f3a\"],[0.8888888888888888,\"#fdca26\"],[1.0,\"#f0f921\"]],\"type\":\"heatmap\"}],\"heatmapgl\":[{\"colorbar\":{\"outlinewidth\":0,\"ticks\":\"\"},\"colorscale\":[[0.0,\"#0d0887\"],[0.1111111111111111,\"#46039f\"],[0.2222222222222222,\"#7201a8\"],[0.3333333333333333,\"#9c179e\"],[0.4444444444444444,\"#bd3786\"],[0.5555555555555556,\"#d8576b\"],[0.6666666666666666,\"#ed7953\"],[0.7777777777777778,\"#fb9f3a\"],[0.8888888888888888,\"#fdca26\"],[1.0,\"#f0f921\"]],\"type\":\"heatmapgl\"}],\"histogram\":[{\"marker\":{\"pattern\":{\"fillmode\":\"overlay\",\"size\":10,\"solidity\":0.2}},\"type\":\"histogram\"}],\"histogram2d\":[{\"colorbar\":{\"outlinewidth\":0,\"ticks\":\"\"},\"colorscale\":[[0.0,\"#0d0887\"],[0.1111111111111111,\"#46039f\"],[0.2222222222222222,\"#7201a8\"],[0.3333333333333333,\"#9c179e\"],[0.4444444444444444,\"#bd3786\"],[0.5555555555555556,\"#d8576b\"],[0.6666666666666666,\"#ed7953\"],[0.7777777777777778,\"#fb9f3a\"],[0.8888888888888888,\"#fdca26\"],[1.0,\"#f0f921\"]],\"type\":\"histogram2d\"}],\"histogram2dcontour\":[{\"colorbar\":{\"outlinewidth\":0,\"ticks\":\"\"},\"colorscale\":[[0.0,\"#0d0887\"],[0.1111111111111111,\"#46039f\"],[0.2222222222222222,\"#7201a8\"],[0.3333333333333333,\"#9c179e\"],[0.4444444444444444,\"#bd3786\"],[0.5555555555555556,\"#d8576b\"],[0.6666666666666666,\"#ed7953\"],[0.7777777777777778,\"#fb9f3a\"],[0.8888888888888888,\"#fdca26\"],[1.0,\"#f0f921\"]],\"type\":\"histogram2dcontour\"}],\"mesh3d\":[{\"colorbar\":{\"outlinewidth\":0,\"ticks\":\"\"},\"type\":\"mesh3d\"}],\"parcoords\":[{\"line\":{\"colorbar\":{\"outlinewidth\":0,\"ticks\":\"\"}},\"type\":\"parcoords\"}],\"pie\":[{\"automargin\":true,\"type\":\"pie\"}],\"scatter\":[{\"marker\":{\"colorbar\":{\"outlinewidth\":0,\"ticks\":\"\"}},\"type\":\"scatter\"}],\"scatter3d\":[{\"line\":{\"colorbar\":{\"outlinewidth\":0,\"ticks\":\"\"}},\"marker\":{\"colorbar\":{\"outlinewidth\":0,\"ticks\":\"\"}},\"type\":\"scatter3d\"}],\"scattercarpet\":[{\"marker\":{\"colorbar\":{\"outlinewidth\":0,\"ticks\":\"\"}},\"type\":\"scattercarpet\"}],\"scattergeo\":[{\"marker\":{\"colorbar\":{\"outlinewidth\":0,\"ticks\":\"\"}},\"type\":\"scattergeo\"}],\"scattergl\":[{\"marker\":{\"colorbar\":{\"outlinewidth\":0,\"ticks\":\"\"}},\"type\":\"scattergl\"}],\"scattermapbox\":[{\"marker\":{\"colorbar\":{\"outlinewidth\":0,\"ticks\":\"\"}},\"type\":\"scattermapbox\"}],\"scatterpolar\":[{\"marker\":{\"colorbar\":{\"outlinewidth\":0,\"ticks\":\"\"}},\"type\":\"scatterpolar\"}],\"scatterpolargl\":[{\"marker\":{\"colorbar\":{\"outlinewidth\":0,\"ticks\":\"\"}},\"type\":\"scatterpolargl\"}],\"scatterternary\":[{\"marker\":{\"colorbar\":{\"outlinewidth\":0,\"ticks\":\"\"}},\"type\":\"scatterternary\"}],\"surface\":[{\"colorbar\":{\"outlinewidth\":0,\"ticks\":\"\"},\"colorscale\":[[0.0,\"#0d0887\"],[0.1111111111111111,\"#46039f\"],[0.2222222222222222,\"#7201a8\"],[0.3333333333333333,\"#9c179e\"],[0.4444444444444444,\"#bd3786\"],[0.5555555555555556,\"#d8576b\"],[0.6666666666666666,\"#ed7953\"],[0.7777777777777778,\"#fb9f3a\"],[0.8888888888888888,\"#fdca26\"],[1.0,\"#f0f921\"]],\"type\":\"surface\"}],\"table\":[{\"cells\":{\"fill\":{\"color\":\"#EBF0F8\"},\"line\":{\"color\":\"white\"}},\"header\":{\"fill\":{\"color\":\"#C8D4E3\"},\"line\":{\"color\":\"white\"}},\"type\":\"table\"}]},\"layout\":{\"annotationdefaults\":{\"arrowcolor\":\"#2a3f5f\",\"arrowhead\":0,\"arrowwidth\":1},\"autotypenumbers\":\"strict\",\"coloraxis\":{\"colorbar\":{\"outlinewidth\":0,\"ticks\":\"\"}},\"colorscale\":{\"diverging\":[[0,\"#8e0152\"],[0.1,\"#c51b7d\"],[0.2,\"#de77ae\"],[0.3,\"#f1b6da\"],[0.4,\"#fde0ef\"],[0.5,\"#f7f7f7\"],[0.6,\"#e6f5d0\"],[0.7,\"#b8e186\"],[0.8,\"#7fbc41\"],[0.9,\"#4d9221\"],[1,\"#276419\"]],\"sequential\":[[0.0,\"#0d0887\"],[0.1111111111111111,\"#46039f\"],[0.2222222222222222,\"#7201a8\"],[0.3333333333333333,\"#9c179e\"],[0.4444444444444444,\"#bd3786\"],[0.5555555555555556,\"#d8576b\"],[0.6666666666666666,\"#ed7953\"],[0.7777777777777778,\"#fb9f3a\"],[0.8888888888888888,\"#fdca26\"],[1.0,\"#f0f921\"]],\"sequentialminus\":[[0.0,\"#0d0887\"],[0.1111111111111111,\"#46039f\"],[0.2222222222222222,\"#7201a8\"],[0.3333333333333333,\"#9c179e\"],[0.4444444444444444,\"#bd3786\"],[0.5555555555555556,\"#d8576b\"],[0.6666666666666666,\"#ed7953\"],[0.7777777777777778,\"#fb9f3a\"],[0.8888888888888888,\"#fdca26\"],[1.0,\"#f0f921\"]]},\"colorway\":[\"#636efa\",\"#EF553B\",\"#00cc96\",\"#ab63fa\",\"#FFA15A\",\"#19d3f3\",\"#FF6692\",\"#B6E880\",\"#FF97FF\",\"#FECB52\"],\"font\":{\"color\":\"#2a3f5f\"},\"geo\":{\"bgcolor\":\"white\",\"lakecolor\":\"white\",\"landcolor\":\"#E5ECF6\",\"showlakes\":true,\"showland\":true,\"subunitcolor\":\"white\"},\"hoverlabel\":{\"align\":\"left\"},\"hovermode\":\"closest\",\"mapbox\":{\"style\":\"light\"},\"paper_bgcolor\":\"white\",\"plot_bgcolor\":\"#E5ECF6\",\"polar\":{\"angularaxis\":{\"gridcolor\":\"white\",\"linecolor\":\"white\",\"ticks\":\"\"},\"bgcolor\":\"#E5ECF6\",\"radialaxis\":{\"gridcolor\":\"white\",\"linecolor\":\"white\",\"ticks\":\"\"}},\"scene\":{\"xaxis\":{\"backgroundcolor\":\"#E5ECF6\",\"gridcolor\":\"white\",\"gridwidth\":2,\"linecolor\":\"white\",\"showbackground\":true,\"ticks\":\"\",\"zerolinecolor\":\"white\"},\"yaxis\":{\"backgroundcolor\":\"#E5ECF6\",\"gridcolor\":\"white\",\"gridwidth\":2,\"linecolor\":\"white\",\"showbackground\":true,\"ticks\":\"\",\"zerolinecolor\":\"white\"},\"zaxis\":{\"backgroundcolor\":\"#E5ECF6\",\"gridcolor\":\"white\",\"gridwidth\":2,\"linecolor\":\"white\",\"showbackground\":true,\"ticks\":\"\",\"zerolinecolor\":\"white\"}},\"shapedefaults\":{\"line\":{\"color\":\"#2a3f5f\"}},\"ternary\":{\"aaxis\":{\"gridcolor\":\"white\",\"linecolor\":\"white\",\"ticks\":\"\"},\"baxis\":{\"gridcolor\":\"white\",\"linecolor\":\"white\",\"ticks\":\"\"},\"bgcolor\":\"#E5ECF6\",\"caxis\":{\"gridcolor\":\"white\",\"linecolor\":\"white\",\"ticks\":\"\"}},\"title\":{\"x\":0.05},\"xaxis\":{\"automargin\":true,\"gridcolor\":\"white\",\"linecolor\":\"white\",\"ticks\":\"\",\"title\":{\"standoff\":15},\"zerolinecolor\":\"white\",\"zerolinewidth\":2},\"yaxis\":{\"automargin\":true,\"gridcolor\":\"white\",\"linecolor\":\"white\",\"ticks\":\"\",\"title\":{\"standoff\":15},\"zerolinecolor\":\"white\",\"zerolinewidth\":2}}},\"legend\":{\"tracegroupgap\":0},\"title\":{\"text\":\"Tree of Most Common Words TEXTO ORIGINAL\"},\"height\":400,\"width\":1200},                        {\"responsive\": true}                    ).then(function(){\n",
              "                            \n",
              "var gd = document.getElementById('d757d74e-2fb3-4a69-a1de-afc386155d87');\n",
              "var x = new MutationObserver(function (mutations, observer) {{\n",
              "        var display = window.getComputedStyle(gd).display;\n",
              "        if (!display || display === 'none') {{\n",
              "            console.log([gd, 'removed!']);\n",
              "            Plotly.purge(gd);\n",
              "            observer.disconnect();\n",
              "        }}\n",
              "}});\n",
              "\n",
              "// Listen for the removal of the full notebook cells\n",
              "var notebookContainer = gd.closest('#notebook-container');\n",
              "if (notebookContainer) {{\n",
              "    x.observe(notebookContainer, {childList: true});\n",
              "}}\n",
              "\n",
              "// Listen for the clearing of the current output cell\n",
              "var outputEl = gd.closest('.output');\n",
              "if (outputEl) {{\n",
              "    x.observe(outputEl, {childList: true});\n",
              "}}\n",
              "\n",
              "                        })                };                            </script>        </div>\n",
              "</body>\n",
              "</html>"
            ]
          },
          "metadata": {}
        },
        {
          "output_type": "display_data",
          "data": {
            "text/html": [
              "<html>\n",
              "<head><meta charset=\"utf-8\" /></head>\n",
              "<body>\n",
              "    <div>            <script src=\"https://cdnjs.cloudflare.com/ajax/libs/mathjax/2.7.5/MathJax.js?config=TeX-AMS-MML_SVG\"></script><script type=\"text/javascript\">if (window.MathJax) {MathJax.Hub.Config({SVG: {font: \"STIX-Web\"}});}</script>                <script type=\"text/javascript\">window.PlotlyConfig = {MathJaxConfig: 'local'};</script>\n",
              "        <script src=\"https://cdn.plot.ly/plotly-2.8.3.min.js\"></script>                <div id=\"e4186dbd-32d4-4fe3-82ac-8850b3f323b1\" class=\"plotly-graph-div\" style=\"height:400px; width:1200px;\"></div>            <script type=\"text/javascript\">                                    window.PLOTLYENV=window.PLOTLYENV || {};                                    if (document.getElementById(\"e4186dbd-32d4-4fe3-82ac-8850b3f323b1\")) {                    Plotly.newPlot(                        \"e4186dbd-32d4-4fe3-82ac-8850b3f323b1\",                        [{\"branchvalues\":\"total\",\"domain\":{\"x\":[0.0,1.0],\"y\":[0.0,1.0]},\"hovertemplate\":\"labels=%{label}<br>count=%{value}<br>parent=%{parent}<br>id=%{id}<extra></extra>\",\"ids\":[\"atlant\",\"basin\",\"center\",\"central\",\"coast\",\"convect\",\"cyclon\",\"deep\",\"due\",\"el\",\"flood\",\"guatemala\",\"hurrican\",\"julia\",\"nation\",\"nicaragua\",\"octob\",\"pacif\",\"peopl\",\"rain\",\"salvador\",\"south\",\"storm\",\"track\",\"tropic\"],\"labels\":[\"atlant\",\"basin\",\"center\",\"central\",\"coast\",\"convect\",\"cyclon\",\"deep\",\"due\",\"el\",\"flood\",\"guatemala\",\"hurrican\",\"julia\",\"nation\",\"nicaragua\",\"octob\",\"pacif\",\"peopl\",\"rain\",\"salvador\",\"south\",\"storm\",\"track\",\"tropic\"],\"name\":\"\",\"parents\":[\"\",\"\",\"\",\"\",\"\",\"\",\"\",\"\",\"\",\"\",\"\",\"\",\"\",\"\",\"\",\"\",\"\",\"\",\"\",\"\",\"\",\"\",\"\",\"\",\"\"],\"values\":[8,5,12,6,5,6,5,5,5,5,6,5,19,13,5,5,20,8,12,5,5,5,19,5,18],\"type\":\"treemap\"}],                        {\"template\":{\"data\":{\"bar\":[{\"error_x\":{\"color\":\"#2a3f5f\"},\"error_y\":{\"color\":\"#2a3f5f\"},\"marker\":{\"line\":{\"color\":\"#E5ECF6\",\"width\":0.5},\"pattern\":{\"fillmode\":\"overlay\",\"size\":10,\"solidity\":0.2}},\"type\":\"bar\"}],\"barpolar\":[{\"marker\":{\"line\":{\"color\":\"#E5ECF6\",\"width\":0.5},\"pattern\":{\"fillmode\":\"overlay\",\"size\":10,\"solidity\":0.2}},\"type\":\"barpolar\"}],\"carpet\":[{\"aaxis\":{\"endlinecolor\":\"#2a3f5f\",\"gridcolor\":\"white\",\"linecolor\":\"white\",\"minorgridcolor\":\"white\",\"startlinecolor\":\"#2a3f5f\"},\"baxis\":{\"endlinecolor\":\"#2a3f5f\",\"gridcolor\":\"white\",\"linecolor\":\"white\",\"minorgridcolor\":\"white\",\"startlinecolor\":\"#2a3f5f\"},\"type\":\"carpet\"}],\"choropleth\":[{\"colorbar\":{\"outlinewidth\":0,\"ticks\":\"\"},\"type\":\"choropleth\"}],\"contour\":[{\"colorbar\":{\"outlinewidth\":0,\"ticks\":\"\"},\"colorscale\":[[0.0,\"#0d0887\"],[0.1111111111111111,\"#46039f\"],[0.2222222222222222,\"#7201a8\"],[0.3333333333333333,\"#9c179e\"],[0.4444444444444444,\"#bd3786\"],[0.5555555555555556,\"#d8576b\"],[0.6666666666666666,\"#ed7953\"],[0.7777777777777778,\"#fb9f3a\"],[0.8888888888888888,\"#fdca26\"],[1.0,\"#f0f921\"]],\"type\":\"contour\"}],\"contourcarpet\":[{\"colorbar\":{\"outlinewidth\":0,\"ticks\":\"\"},\"type\":\"contourcarpet\"}],\"heatmap\":[{\"colorbar\":{\"outlinewidth\":0,\"ticks\":\"\"},\"colorscale\":[[0.0,\"#0d0887\"],[0.1111111111111111,\"#46039f\"],[0.2222222222222222,\"#7201a8\"],[0.3333333333333333,\"#9c179e\"],[0.4444444444444444,\"#bd3786\"],[0.5555555555555556,\"#d8576b\"],[0.6666666666666666,\"#ed7953\"],[0.7777777777777778,\"#fb9f3a\"],[0.8888888888888888,\"#fdca26\"],[1.0,\"#f0f921\"]],\"type\":\"heatmap\"}],\"heatmapgl\":[{\"colorbar\":{\"outlinewidth\":0,\"ticks\":\"\"},\"colorscale\":[[0.0,\"#0d0887\"],[0.1111111111111111,\"#46039f\"],[0.2222222222222222,\"#7201a8\"],[0.3333333333333333,\"#9c179e\"],[0.4444444444444444,\"#bd3786\"],[0.5555555555555556,\"#d8576b\"],[0.6666666666666666,\"#ed7953\"],[0.7777777777777778,\"#fb9f3a\"],[0.8888888888888888,\"#fdca26\"],[1.0,\"#f0f921\"]],\"type\":\"heatmapgl\"}],\"histogram\":[{\"marker\":{\"pattern\":{\"fillmode\":\"overlay\",\"size\":10,\"solidity\":0.2}},\"type\":\"histogram\"}],\"histogram2d\":[{\"colorbar\":{\"outlinewidth\":0,\"ticks\":\"\"},\"colorscale\":[[0.0,\"#0d0887\"],[0.1111111111111111,\"#46039f\"],[0.2222222222222222,\"#7201a8\"],[0.3333333333333333,\"#9c179e\"],[0.4444444444444444,\"#bd3786\"],[0.5555555555555556,\"#d8576b\"],[0.6666666666666666,\"#ed7953\"],[0.7777777777777778,\"#fb9f3a\"],[0.8888888888888888,\"#fdca26\"],[1.0,\"#f0f921\"]],\"type\":\"histogram2d\"}],\"histogram2dcontour\":[{\"colorbar\":{\"outlinewidth\":0,\"ticks\":\"\"},\"colorscale\":[[0.0,\"#0d0887\"],[0.1111111111111111,\"#46039f\"],[0.2222222222222222,\"#7201a8\"],[0.3333333333333333,\"#9c179e\"],[0.4444444444444444,\"#bd3786\"],[0.5555555555555556,\"#d8576b\"],[0.6666666666666666,\"#ed7953\"],[0.7777777777777778,\"#fb9f3a\"],[0.8888888888888888,\"#fdca26\"],[1.0,\"#f0f921\"]],\"type\":\"histogram2dcontour\"}],\"mesh3d\":[{\"colorbar\":{\"outlinewidth\":0,\"ticks\":\"\"},\"type\":\"mesh3d\"}],\"parcoords\":[{\"line\":{\"colorbar\":{\"outlinewidth\":0,\"ticks\":\"\"}},\"type\":\"parcoords\"}],\"pie\":[{\"automargin\":true,\"type\":\"pie\"}],\"scatter\":[{\"marker\":{\"colorbar\":{\"outlinewidth\":0,\"ticks\":\"\"}},\"type\":\"scatter\"}],\"scatter3d\":[{\"line\":{\"colorbar\":{\"outlinewidth\":0,\"ticks\":\"\"}},\"marker\":{\"colorbar\":{\"outlinewidth\":0,\"ticks\":\"\"}},\"type\":\"scatter3d\"}],\"scattercarpet\":[{\"marker\":{\"colorbar\":{\"outlinewidth\":0,\"ticks\":\"\"}},\"type\":\"scattercarpet\"}],\"scattergeo\":[{\"marker\":{\"colorbar\":{\"outlinewidth\":0,\"ticks\":\"\"}},\"type\":\"scattergeo\"}],\"scattergl\":[{\"marker\":{\"colorbar\":{\"outlinewidth\":0,\"ticks\":\"\"}},\"type\":\"scattergl\"}],\"scattermapbox\":[{\"marker\":{\"colorbar\":{\"outlinewidth\":0,\"ticks\":\"\"}},\"type\":\"scattermapbox\"}],\"scatterpolar\":[{\"marker\":{\"colorbar\":{\"outlinewidth\":0,\"ticks\":\"\"}},\"type\":\"scatterpolar\"}],\"scatterpolargl\":[{\"marker\":{\"colorbar\":{\"outlinewidth\":0,\"ticks\":\"\"}},\"type\":\"scatterpolargl\"}],\"scatterternary\":[{\"marker\":{\"colorbar\":{\"outlinewidth\":0,\"ticks\":\"\"}},\"type\":\"scatterternary\"}],\"surface\":[{\"colorbar\":{\"outlinewidth\":0,\"ticks\":\"\"},\"colorscale\":[[0.0,\"#0d0887\"],[0.1111111111111111,\"#46039f\"],[0.2222222222222222,\"#7201a8\"],[0.3333333333333333,\"#9c179e\"],[0.4444444444444444,\"#bd3786\"],[0.5555555555555556,\"#d8576b\"],[0.6666666666666666,\"#ed7953\"],[0.7777777777777778,\"#fb9f3a\"],[0.8888888888888888,\"#fdca26\"],[1.0,\"#f0f921\"]],\"type\":\"surface\"}],\"table\":[{\"cells\":{\"fill\":{\"color\":\"#EBF0F8\"},\"line\":{\"color\":\"white\"}},\"header\":{\"fill\":{\"color\":\"#C8D4E3\"},\"line\":{\"color\":\"white\"}},\"type\":\"table\"}]},\"layout\":{\"annotationdefaults\":{\"arrowcolor\":\"#2a3f5f\",\"arrowhead\":0,\"arrowwidth\":1},\"autotypenumbers\":\"strict\",\"coloraxis\":{\"colorbar\":{\"outlinewidth\":0,\"ticks\":\"\"}},\"colorscale\":{\"diverging\":[[0,\"#8e0152\"],[0.1,\"#c51b7d\"],[0.2,\"#de77ae\"],[0.3,\"#f1b6da\"],[0.4,\"#fde0ef\"],[0.5,\"#f7f7f7\"],[0.6,\"#e6f5d0\"],[0.7,\"#b8e186\"],[0.8,\"#7fbc41\"],[0.9,\"#4d9221\"],[1,\"#276419\"]],\"sequential\":[[0.0,\"#0d0887\"],[0.1111111111111111,\"#46039f\"],[0.2222222222222222,\"#7201a8\"],[0.3333333333333333,\"#9c179e\"],[0.4444444444444444,\"#bd3786\"],[0.5555555555555556,\"#d8576b\"],[0.6666666666666666,\"#ed7953\"],[0.7777777777777778,\"#fb9f3a\"],[0.8888888888888888,\"#fdca26\"],[1.0,\"#f0f921\"]],\"sequentialminus\":[[0.0,\"#0d0887\"],[0.1111111111111111,\"#46039f\"],[0.2222222222222222,\"#7201a8\"],[0.3333333333333333,\"#9c179e\"],[0.4444444444444444,\"#bd3786\"],[0.5555555555555556,\"#d8576b\"],[0.6666666666666666,\"#ed7953\"],[0.7777777777777778,\"#fb9f3a\"],[0.8888888888888888,\"#fdca26\"],[1.0,\"#f0f921\"]]},\"colorway\":[\"#636efa\",\"#EF553B\",\"#00cc96\",\"#ab63fa\",\"#FFA15A\",\"#19d3f3\",\"#FF6692\",\"#B6E880\",\"#FF97FF\",\"#FECB52\"],\"font\":{\"color\":\"#2a3f5f\"},\"geo\":{\"bgcolor\":\"white\",\"lakecolor\":\"white\",\"landcolor\":\"#E5ECF6\",\"showlakes\":true,\"showland\":true,\"subunitcolor\":\"white\"},\"hoverlabel\":{\"align\":\"left\"},\"hovermode\":\"closest\",\"mapbox\":{\"style\":\"light\"},\"paper_bgcolor\":\"white\",\"plot_bgcolor\":\"#E5ECF6\",\"polar\":{\"angularaxis\":{\"gridcolor\":\"white\",\"linecolor\":\"white\",\"ticks\":\"\"},\"bgcolor\":\"#E5ECF6\",\"radialaxis\":{\"gridcolor\":\"white\",\"linecolor\":\"white\",\"ticks\":\"\"}},\"scene\":{\"xaxis\":{\"backgroundcolor\":\"#E5ECF6\",\"gridcolor\":\"white\",\"gridwidth\":2,\"linecolor\":\"white\",\"showbackground\":true,\"ticks\":\"\",\"zerolinecolor\":\"white\"},\"yaxis\":{\"backgroundcolor\":\"#E5ECF6\",\"gridcolor\":\"white\",\"gridwidth\":2,\"linecolor\":\"white\",\"showbackground\":true,\"ticks\":\"\",\"zerolinecolor\":\"white\"},\"zaxis\":{\"backgroundcolor\":\"#E5ECF6\",\"gridcolor\":\"white\",\"gridwidth\":2,\"linecolor\":\"white\",\"showbackground\":true,\"ticks\":\"\",\"zerolinecolor\":\"white\"}},\"shapedefaults\":{\"line\":{\"color\":\"#2a3f5f\"}},\"ternary\":{\"aaxis\":{\"gridcolor\":\"white\",\"linecolor\":\"white\",\"ticks\":\"\"},\"baxis\":{\"gridcolor\":\"white\",\"linecolor\":\"white\",\"ticks\":\"\"},\"bgcolor\":\"#E5ECF6\",\"caxis\":{\"gridcolor\":\"white\",\"linecolor\":\"white\",\"ticks\":\"\"}},\"title\":{\"x\":0.05},\"xaxis\":{\"automargin\":true,\"gridcolor\":\"white\",\"linecolor\":\"white\",\"ticks\":\"\",\"title\":{\"standoff\":15},\"zerolinecolor\":\"white\",\"zerolinewidth\":2},\"yaxis\":{\"automargin\":true,\"gridcolor\":\"white\",\"linecolor\":\"white\",\"ticks\":\"\",\"title\":{\"standoff\":15},\"zerolinecolor\":\"white\",\"zerolinewidth\":2}}},\"legend\":{\"tracegroupgap\":0},\"title\":{\"text\":\"Tree of Most Common Words despu\\u00e9s de quitar stopwords y realizar stemming\"},\"height\":400,\"width\":1200},                        {\"responsive\": true}                    ).then(function(){\n",
              "                            \n",
              "var gd = document.getElementById('e4186dbd-32d4-4fe3-82ac-8850b3f323b1');\n",
              "var x = new MutationObserver(function (mutations, observer) {{\n",
              "        var display = window.getComputedStyle(gd).display;\n",
              "        if (!display || display === 'none') {{\n",
              "            console.log([gd, 'removed!']);\n",
              "            Plotly.purge(gd);\n",
              "            observer.disconnect();\n",
              "        }}\n",
              "}});\n",
              "\n",
              "// Listen for the removal of the full notebook cells\n",
              "var notebookContainer = gd.closest('#notebook-container');\n",
              "if (notebookContainer) {{\n",
              "    x.observe(notebookContainer, {childList: true});\n",
              "}}\n",
              "\n",
              "// Listen for the clearing of the current output cell\n",
              "var outputEl = gd.closest('.output');\n",
              "if (outputEl) {{\n",
              "    x.observe(outputEl, {childList: true});\n",
              "}}\n",
              "\n",
              "                        })                };                            </script>        </div>\n",
              "</body>\n",
              "</html>"
            ]
          },
          "metadata": {}
        }
      ]
    },
    {
      "cell_type": "markdown",
      "metadata": {
        "id": "tD4lE3POxFek"
      },
      "source": [
        "## Exercici 3\n",
        "### Realitza sentiment analysis al teu conjunt de dades."
      ]
    },
    {
      "cell_type": "markdown",
      "source": [
        "SentimentAnalyzer es una herramienta para implementar y facilitar las tareas de Análisis de Sentimientos de texto utilizando características y clasificadores de NLTK."
      ],
      "metadata": {
        "id": "-kyYXn0NbCz7"
      }
    },
    {
      "cell_type": "code",
      "source": [
        "sid = SentimentIntensityAnalyzer()\n",
        "stemmed_words_to_sentiment = ' '.join(stemmed_words)\n",
        "sentiment = sid.polarity_scores(stemmed_words_to_sentiment)\n",
        "\n",
        "print(\"Overall sentiment dictionary is : \", sentiment)\n",
        "print(\"sentence was rated as \", sentiment['neg']*100, \"% Negative\")\n",
        "print(\"sentence was rated as \", sentiment['neu']*100, \"% Neutral\")\n",
        "print(\"sentence was rated as \", sentiment['pos']*100, \"% Positive \\n\")\n",
        "\n",
        "    # decide sentiment as positive, negative and neutral\n",
        "if sentiment['compound'] >= 0.05 :\n",
        "        print(\"El texto es Positivo\")\n",
        " \n",
        "elif sentiment['compound'] <= - 0.05 :\n",
        "        print(\"El texto es Negativo\")\n",
        " \n",
        "else :\n",
        "        print(\"El texto es Neutral\")\n",
        "\n",
        "print(\"\\n\")\n",
        "\n",
        "plt.bar(range(len(sentiment)), list(sentiment.values()), align='center')\n",
        "plt.xticks(range(len(D)), list(sentiment.keys()))\n",
        "plt.title('Hurricane Julia Text Sentiment', fontsize = 23)\n",
        "plt.xlabel('K') \n",
        "plt.ylabel('Sentiment') \n",
        "plt.show()"
      ],
      "metadata": {
        "colab": {
          "base_uri": "https://localhost:8080/",
          "height": 442
        },
        "id": "GBlilG_Btg14",
        "outputId": "e849a50a-1010-4091-b2ca-f470e0e42d54"
      },
      "execution_count": null,
      "outputs": [
        {
          "output_type": "stream",
          "name": "stdout",
          "text": [
            "Overall sentiment dictionary is :  {'neg': 0.113, 'neu': 0.847, 'pos': 0.04, 'compound': -0.9954}\n",
            "sentence was rated as  11.3 % Negative\n",
            "sentence was rated as  84.7 % Neutral\n",
            "sentence was rated as  4.0 % Positive \n",
            "\n",
            "El texto es Negativo\n",
            "\n",
            "\n"
          ]
        },
        {
          "output_type": "display_data",
          "data": {
            "text/plain": [
              "<Figure size 432x288 with 1 Axes>"
            ],
            "image/png": "[encoded data removed]"
          },
          "metadata": {
            "needs_background": "light"
          }
        }
      ]
    },
    {
      "cell_type": "markdown",
      "source": [
        "El texto habla del huracán Julia fue un ciclón tropical mortal que causó importantes impactos en Centroamérica.\n",
        "\n",
        "En el texto nos encontramos, como cabia de esperar, un porcentaje más elevado de palabras negativas que positivas. \n",
        "\n",
        "Nuestro modelo, SentimentIntensityAnalyzer, valora el texto como **NEGATIVO**"
      ],
      "metadata": {
        "id": "92lSAxSQkHVK"
      }
    }
  ]
}